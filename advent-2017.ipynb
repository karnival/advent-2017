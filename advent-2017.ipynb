{
 "cells": [
  {
   "cell_type": "code",
   "execution_count": 4,
   "metadata": {},
   "outputs": [],
   "source": [
    "# Day 1\n",
    "# Problem 1: sum of all digits that match the next digit in the (circular) list.\n",
    "captcha = \"5228833336355848549915459366737982598312959583817455621545976784792489468198365998232722734876612332352376192813552949814275947575774339529811976644361517795586998319242241614813622734255797569571577699238592667287428166398221572885869416419682687759743978434571821267146514338394624525648338739929479912368172669885577319718389278168766844487948761697438722556857882433224393723131298876252626643517236883999115665656935521675772866516185899317132494716723615493476397115627687887665194781746377341468995954554518252916859227397693885254329628812355612487594445522395853551734567498838382248616137969637971369615443599973588326388792893969924855316437952313492551671545714262784738343517166544197194547173515155927244175447296474282154114951181648317875827525814453758846194548872789943372281952995222779173812444186491115426476188672253249744478946863317915136832199132868917891243591195719354721129116229164688256853628339233919671468781913167415624214152793864585332944468428849171876873433621524242289488135675313544498245498637424139153782925723745249728743885493877792648576673196889949568317234125863369187953788611841388353999875519172896329524346527265231767868839696693328273381772726782949166112932954356923757485139367298699922984925977724972944277991686823219295939734313874834861796179591659174726432357533113896212781566659154939419866797488347448551719481632572231632463575591599696388223344219228325134233238538854289437756331848887242423387542214691157226725179683638967415678697625138177633444765126223885478348951332634398291612134852858683942466178329922655822225426534359191696177633167962839847985826676955417426617126288255366123169174674348417932158291334646767637764323226842771523598562429399935789788215958367362467652444854123951972118358417629679454978687337137675495295768451719631999398617828287671937584998697959425845883145736323818225129311845997214987663433375689621746665629187252511643969315283316269222835744532431378945137649959158495714472963839397214332815241141327714672141875129895\"\n",
    "\n",
    "# Convert to list of ints\n",
    "l = []\n",
    "for c in captcha:\n",
    "    l.append(int(c))"
   ]
  },
  {
   "cell_type": "code",
   "execution_count": 107,
   "metadata": {},
   "outputs": [],
   "source": [
    "# This class is a list with indexing that wraps around.\n",
    "class Ring(list):\n",
    "    def __init__(self, l):\n",
    "        super().__init__(l)\n",
    "        self.N = len(l)\n",
    "    def __getitem__(self, key):\n",
    "        if isinstance(key, slice):\n",
    "            return [self[k] for k in self._slice(key)]\n",
    "        \n",
    "        key_true = key % self.N\n",
    "        return super().__getitem__(key_true)\n",
    "    def _slice(self, slice):\n",
    "        start, stop, step = slice.start, slice.stop, slice.step\n",
    "        \n",
    "        if start is None:\n",
    "            start = 0\n",
    "        if stop is None:\n",
    "            stop = len(self)\n",
    "        if step is None:\n",
    "            step = 1\n",
    "            \n",
    "        return range(start, stop, step)\n",
    "    \n",
    "    def __setitem__(self, key, value):\n",
    "        if isinstance(key, slice):\n",
    "            return [self.__setitem__(k, v) for k,v in zip(self._slice(key), value)]\n",
    "        \n",
    "        key_true = key % self.N\n",
    "        return super().__setitem__(key_true, value)"
   ]
  },
  {
   "cell_type": "code",
   "execution_count": 58,
   "metadata": {},
   "outputs": [
    {
     "data": {
      "text/plain": [
       "1216"
      ]
     },
     "execution_count": 58,
     "metadata": {},
     "output_type": "execute_result"
    }
   ],
   "source": [
    "# Day 1, problem 1 solution.\n",
    "r = Ring(l)\n",
    "summing = 0\n",
    "for i in range(len(r)):\n",
    "    if r[i] == r[i+1]:\n",
    "        summing += r[i]\n",
    "summing"
   ]
  },
  {
   "cell_type": "code",
   "execution_count": 64,
   "metadata": {},
   "outputs": [
    {
     "data": {
      "text/plain": [
       "1072"
      ]
     },
     "execution_count": 64,
     "metadata": {},
     "output_type": "execute_result"
    }
   ],
   "source": [
    "# Day 1, problem 2.\n",
    "# Sum of all digits that match the digit halfway around the list.\n",
    "# e.g. a[0] only added to sum if a[0]==a[N/2] (careful with fencepost).\n",
    "\n",
    "N = len(r)\n",
    "summing = 0\n",
    "for i in range(N):\n",
    "    if r[i] == r[i+N//2]: # assumes N is even\n",
    "        summing += r[i]\n",
    "summing\n"
   ]
  },
  {
   "cell_type": "code",
   "execution_count": 1,
   "metadata": {},
   "outputs": [
    {
     "data": {
      "text/plain": [
       "43074"
      ]
     },
     "execution_count": 1,
     "metadata": {},
     "output_type": "execute_result"
    }
   ],
   "source": [
    "# Day 2, problem 1.\n",
    "# Checksum: for each row, take difference of largest and smallest element. Sum these.\n",
    "\n",
    "entries = [[157,564,120,495,194,520,510,618,244,443,471,473,612,149,506,138],\n",
    "[1469,670,47,604,1500,238,1304,1426,54,749,1218,1409,60,51,1436,598],\n",
    "[578,184,2760,3057,994,167,2149,191,2913,2404,213,1025,1815,588,2421,3138],\n",
    "[935,850,726,155,178,170,275,791,1028,75,781,138,176,621,773,688],\n",
    "[212,977,297,645,229,194,207,640,804,509,833,726,197,825,242,743],\n",
    "[131,43,324,319,64,376,231,146,382,162,464,314,178,353,123,446],\n",
    "[551,121,127,155,1197,288,1412,1285,557,137,145,1651,1549,1217,681,1649],\n",
    "[1723,1789,5525,4890,3368,188,3369,4842,3259,2502,4825,163,146,2941,126,5594],\n",
    "[311,2420,185,211,2659,2568,2461,231,2599,1369,821,506,2227,180,220,1372],\n",
    "[197,4490,141,249,3615,3314,789,4407,169,352,4383,5070,5173,3115,132,3513],\n",
    "[4228,2875,3717,504,114,2679,165,3568,3002,116,756,151,4027,261,4813,2760],\n",
    "[651,3194,2975,2591,1019,835,3007,248,3028,1382,282,3242,296,270,3224,3304],\n",
    "[1858,1650,1720,1848,95,313,500,1776,207,1186,72,259,281,1620,79,77],\n",
    "[3841,3217,440,3481,3643,940,3794,4536,1994,4040,3527,202,193,1961,230,217],\n",
    "[2837,2747,2856,426,72,78,2361,96,2784,2780,98,2041,2444,1267,2167,2480],\n",
    "[411,178,4263,4690,3653,162,3201,4702,3129,2685,3716,147,3790,4888,79,165]]\n",
    "\n",
    "summing = 0\n",
    "for e in entries:\n",
    "    summing += max(e) - min(e)\n",
    "\n",
    "summing"
   ]
  },
  {
   "cell_type": "code",
   "execution_count": 22,
   "metadata": {},
   "outputs": [
    {
     "data": {
      "text/plain": [
       "280"
      ]
     },
     "execution_count": 22,
     "metadata": {},
     "output_type": "execute_result"
    }
   ],
   "source": [
    "# Day 2, problem 2.\n",
    "# Each row has only two entries where one divides the other.\n",
    "# Sum the results of these divisions.\n",
    "\n",
    "summing = 0\n",
    "for row in entries:\n",
    "    for i,n in enumerate(row):\n",
    "        modulos = [x % n for x in row]\n",
    "        \n",
    "        if modulos.count(0) == 2: # found the entries, one is n\n",
    "            try:\n",
    "                other_ind = modulos[:i].index(0) # the other is before n\n",
    "            except ValueError:\n",
    "                other_ind = modulos[i+1:].index(0) + i+1 # the other is after n\n",
    "\n",
    "            n1 = row[other_ind] \n",
    "            divided = max(n, n1) // min(n, n1)\n",
    "            \n",
    "            summing += divided\n",
    "            break\n",
    "\n",
    "summing"
   ]
  },
  {
   "cell_type": "code",
   "execution_count": 37,
   "metadata": {},
   "outputs": [
    {
     "data": {
      "text/plain": [
       "280"
      ]
     },
     "execution_count": 37,
     "metadata": {},
     "output_type": "execute_result"
    }
   ],
   "source": [
    "# Neater solution for day 2, problem 2.\n",
    "# Sorting in reversed order means the numerator always occurs first.\n",
    "\n",
    "summing = 0\n",
    "for row in entries:\n",
    "    row_sorted = list(reversed(sorted(row)))\n",
    "    \n",
    "    for n in row_sorted:\n",
    "        modulos = [x % n for x in row_sorted]\n",
    "        \n",
    "        if modulos.count(0) == 2:\n",
    "            other_ind = modulos.index(0)\n",
    "            n1 = row_sorted[other_ind]\n",
    "            \n",
    "            divided = n1 // n\n",
    "\n",
    "            summing += divided\n",
    "            break\n",
    "\n",
    "summing"
   ]
  },
  {
   "cell_type": "code",
   "execution_count": 55,
   "metadata": {},
   "outputs": [
    {
     "name": "stdout",
     "output_type": "stream",
     "text": [
      "475\n"
     ]
    }
   ],
   "source": [
    "# Day 3, problem 1.\n",
    "# Spiral memory, find the Manhattan norm from input to origin.\n",
    "\n",
    "# In this solution we exploit the fact that every squared integer \n",
    "# is a corner of the \"square\" formed by the numbers up to that point.\n",
    "\n",
    "# Hence we can easily find the coordinates of the nearest squared\n",
    "# integer to the target number, then compute the offset from there.\n",
    "\n",
    "import math\n",
    "\n",
    "t = 277678\n",
    "a = math.floor(math.sqrt(t)) # closest square number (corner)\n",
    "\n",
    "diff = t - a**2\n",
    "\n",
    "# Lower RHS coordinates. By symmetry of the Manhattan norm,\n",
    "# we're flipping LHS corners to act as if they were RHS corners.\n",
    "x0 = ((a - 1) // 2)\n",
    "y0 = -(a // 2)\n",
    "\n",
    "if diff <= a + 1: # we're on the vertical edge of the square\n",
    "    x = x0 + 1\n",
    "    y = y0 + diff - 1\n",
    "elif diff > a + 1: # we're on the horizontal edge of the square\n",
    "    x = x0 + 1 - (diff - (a+1))\n",
    "    y = y0 + a\n",
    "    \n",
    "print(abs(x) + abs(y))"
   ]
  },
  {
   "cell_type": "code",
   "execution_count": 98,
   "metadata": {},
   "outputs": [
    {
     "name": "stdout",
     "output_type": "stream",
     "text": [
      "279138\n"
     ]
    }
   ],
   "source": [
    "# Day 3, problem 2.\n",
    "# Set all cells in the grid to 0, and the origin to 1.\n",
    "# Each cell now becomes the sum of adjacent cells, spiralling out from the origin.\n",
    "# What is the first cell value larger than the input?\n",
    "\n",
    "l = 11 # width of grid to simulate\n",
    "\n",
    "grid = [[0 for i in range(l)] for i in range(l)]\n",
    "\n",
    "grid[5][5] = 1\n",
    "cursor_x = 5\n",
    "cursor_y = 5\n",
    "\n",
    "def sum_neighbours(x, y):\n",
    "    summed = 0\n",
    "    summed += grid[x-1][y-1]\n",
    "    summed += grid[x-1][y]\n",
    "    summed += grid[x-1][y+1]\n",
    "    summed += grid[x][y-1]\n",
    "    summed += grid[x][y+1]\n",
    "    summed += grid[x+1][y-1]\n",
    "    summed += grid[x+1][y]\n",
    "    summed += grid[x+1][y+1]\n",
    "    \n",
    "    return summed\n",
    "    \n",
    "\n",
    "# Trace out a spiral and sum neighbours as you go.\n",
    "# This is not very DRY...\n",
    "for i in range(1, l-2, 2):\n",
    "    if grid[cursor_x][cursor_y] <= t:\n",
    "        for j in range(i):\n",
    "            cursor_x += 1\n",
    "            grid[cursor_x][cursor_y] = sum_neighbours(cursor_x, cursor_y)\n",
    "\n",
    "            if grid[cursor_x][cursor_y] > t:\n",
    "                print(grid[cursor_x][cursor_y])\n",
    "                break\n",
    "    \n",
    "    if grid[cursor_x][cursor_y] <= t:\n",
    "        for j in range(i):\n",
    "            cursor_y += 1\n",
    "            grid[cursor_x][cursor_y] = sum_neighbours(cursor_x, cursor_y)\n",
    "\n",
    "            if grid[cursor_x][cursor_y] > t:\n",
    "                print(grid[cursor_x][cursor_y])\n",
    "                break\n",
    "\n",
    "    if grid[cursor_x][cursor_y] <= t:            \n",
    "        for j in range(i+1):\n",
    "            cursor_x -= 1\n",
    "            grid[cursor_x][cursor_y] = sum_neighbours(cursor_x, cursor_y)\n",
    "\n",
    "            if grid[cursor_x][cursor_y] > t:\n",
    "                print(grid[cursor_x][cursor_y])\n",
    "                break\n",
    "\n",
    "    if grid[cursor_x][cursor_y] <= t:\n",
    "        for j in range(i+1):\n",
    "            cursor_y -= 1\n",
    "            grid[cursor_x][cursor_y] = sum_neighbours(cursor_x, cursor_y)\n",
    "            \n",
    "            if grid[cursor_x][cursor_y] > t:\n",
    "                print(grid[cursor_x][cursor_y])\n",
    "                break\n",
    "\n"
   ]
  },
  {
   "cell_type": "code",
   "execution_count": 54,
   "metadata": {},
   "outputs": [
    {
     "name": "stdout",
     "output_type": "stream",
     "text": [
      "383\n"
     ]
    }
   ],
   "source": [
    "# Day 4, problem 1.\n",
    "# Check how many passphrases from input file are valid.\n",
    "# Validity requires no repeated words.\n",
    "\n",
    "import io\n",
    "\n",
    "with io.open('input_day4.txt', 'rb') as f:\n",
    "    props = f.readlines()\n",
    "\n",
    "valid_tally = 0\n",
    "for p in props:\n",
    "    split = p.split()\n",
    "    if len(split) == len(set(split)):\n",
    "        valid_tally += 1\n",
    "    \n",
    "print(valid_tally)"
   ]
  },
  {
   "cell_type": "code",
   "execution_count": 3,
   "metadata": {},
   "outputs": [
    {
     "name": "stdout",
     "output_type": "stream",
     "text": [
      "265\n"
     ]
    }
   ],
   "source": [
    "# Day 4, problem 2.\n",
    "# Now validity requires no words being anagrams of any other word.\n",
    "\n",
    "valid_tally = 0\n",
    "for p in props:\n",
    "    split = p.decode('utf8').split()\n",
    "    \n",
    "    # Sorting will make anagrams identical.\n",
    "    split_sorted = [''.join(sorted(s)) for s in split]\n",
    " \n",
    "    if len(split_sorted) == len(set(split_sorted)):\n",
    "        valid_tally +=1\n",
    "    \n",
    "print(valid_tally)"
   ]
  },
  {
   "cell_type": "code",
   "execution_count": 4,
   "metadata": {},
   "outputs": [
    {
     "name": "stdout",
     "output_type": "stream",
     "text": [
      "339351\n"
     ]
    }
   ],
   "source": [
    "# Day 5, problem 1.\n",
    "# Start at the first element of the input. Increment that element,\n",
    "# then jump forward/backward by however many steps it said before\n",
    "# incrementing. How many steps before you exit the list?\n",
    "\n",
    "with io.open('input_day5.txt', 'rb') as f:\n",
    "    instrs = [int(x) for x in f.readlines()]\n",
    "\n",
    "# Test with a simpler example.\n",
    "# instrs = [0, 3, 0, 1, -3]\n",
    "\n",
    "max_its = 1000000\n",
    "c = 0 # cursor\n",
    "steps_tally = 0\n",
    "for i in range(max_its):\n",
    "    if 0 <= c < len(instrs):\n",
    "        instrs[c] += 1\n",
    "        to_step = instrs[c] - 1\n",
    "        c += to_step\n",
    "        steps_tally += 1\n",
    "    else:\n",
    "        # We've escaped!\n",
    "        print(steps_tally)\n",
    "        break\n",
    "        "
   ]
  },
  {
   "cell_type": "code",
   "execution_count": 7,
   "metadata": {},
   "outputs": [
    {
     "name": "stdout",
     "output_type": "stream",
     "text": [
      "24315397\n"
     ]
    }
   ],
   "source": [
    "# Day 5, problem 2.\n",
    "# Now, the updating rule is different.\n",
    "# if entry >=3 then decrement, otherwise increment.\n",
    "\n",
    "with io.open('input_day5.txt', 'rb') as f:\n",
    "    instrs = [int(x) for x in f.readlines()]\n",
    "    \n",
    "# Test with a simpler example.\n",
    "# instrs = [0, 3, 0, 1, -3]\n",
    "\n",
    "max_its = 1000000000\n",
    "c = 0 # cursor\n",
    "steps_tally = 0\n",
    "for i in range(max_its):\n",
    "    if 0 <= c < len(instrs):\n",
    "        to_step = instrs[c]\n",
    "        \n",
    "        if instrs[c] >= 3:\n",
    "            instrs[c] -= 1\n",
    "        else:\n",
    "            instrs[c] += 1\n",
    "           \n",
    "        c += to_step\n",
    "        steps_tally += 1\n",
    "    else:\n",
    "        # We've escaped!\n",
    "        print(steps_tally)\n",
    "        break"
   ]
  },
  {
   "cell_type": "code",
   "execution_count": 50,
   "metadata": {},
   "outputs": [
    {
     "name": "stdout",
     "output_type": "stream",
     "text": [
      "6681\n"
     ]
    }
   ],
   "source": [
    "# Day 6, problem 1.\n",
    "# Memory shuffling: find the largest bucket, then redistribute its entries,\n",
    "# one by one starting with the next bucket. Ties are broken by lower index.\n",
    "# Find how many iterations occur before the first repeated memory allocation.\n",
    "\n",
    "mem = Ring([4, 1, 15, 12, 0, 9, 9, 5, 5, 8, 7, 3, 14, 5, 12, 3])\n",
    "\n",
    "# Known test case.\n",
    "#mem = Ring([0, 2, 7, 0])\n",
    "\n",
    "max_its = 1000000\n",
    "mems_list = []\n",
    "for i in range(max_its):\n",
    "    c = mem.index(max(mem)) # finds first occurrence\n",
    "    largest = mem[c]\n",
    "    mem[c] = 0\n",
    "    \n",
    "    for j in range(largest):\n",
    "        mem[c+j+1] += 1\n",
    "    \n",
    "    mems_list.append(tuple(mem.copy()))\n",
    "    \n",
    "    uniques = len(set(mems_list))\n",
    "    \n",
    "    if uniques < i:\n",
    "        print(i)\n",
    "        break"
   ]
  },
  {
   "cell_type": "code",
   "execution_count": 52,
   "metadata": {},
   "outputs": [
    {
     "name": "stdout",
     "output_type": "stream",
     "text": [
      "2392\n"
     ]
    }
   ],
   "source": [
    "# Day 6, problem 2.\n",
    "# Start with an already-seen state. How many iterations before it reoccurs?\n",
    "# Use the same starting configuration as before.\n",
    "\n",
    "recurring_inds = [i for i,x in enumerate(mems_list) if x==mems_list[-1]]\n",
    "\n",
    "print(recurring_inds[1] - recurring_inds[0])"
   ]
  },
  {
   "cell_type": "code",
   "execution_count": 82,
   "metadata": {},
   "outputs": [
    {
     "name": "stdout",
     "output_type": "stream",
     "text": [
      "fbgguv\n"
     ]
    }
   ],
   "source": [
    "# Day 7, problem 1.\n",
    "# There is a tree structure implied by program input.\n",
    "# Find the root node.\n",
    "\n",
    "with io.open('input_day7.txt', 'rb') as f:\n",
    "    lines = [l.decode('utf-8').rstrip() for l in f.readlines()]\n",
    "\n",
    "parents = dict()\n",
    "for l in lines:\n",
    "    ws = l.split()\n",
    "    if len(ws) > 3:\n",
    "        for w in ws[3:]:\n",
    "            parents[w.rstrip(',')] = ws[0]\n",
    "\n",
    "parent = 'mvjqmad'\n",
    "while True:\n",
    "    try:\n",
    "        parent = parents[parent]\n",
    "    except KeyError:\n",
    "        print(parent) \n",
    "        break"
   ]
  },
  {
   "cell_type": "code",
   "execution_count": 129,
   "metadata": {},
   "outputs": [],
   "source": [
    "# Day 7, problem 2.\n",
    "# Find the single node with the wrong weight for balancing all subtrees.\n",
    "# What does its weight have to become?\n",
    "\n",
    "weights = dict()\n",
    "for l in lines:\n",
    "    ws = l.split()\n",
    "    weights[ws[0]] = int(ws[1].lstrip('(').rstrip(')'))\n",
    "        "
   ]
  },
  {
   "cell_type": "code",
   "execution_count": 130,
   "metadata": {},
   "outputs": [],
   "source": [
    "def subtreeweights(par):\n",
    "    summed_weight = 0\n",
    "    for p in parents:\n",
    "        if parents[p] == par:\n",
    "            summed_weight += subtreeweights(p)\n",
    "    \n",
    "    summed_weight += weights[par]\n",
    "    \n",
    "    return summed_weight"
   ]
  },
  {
   "cell_type": "code",
   "execution_count": 117,
   "metadata": {},
   "outputs": [],
   "source": [
    "def find_imbalanced(root):\n",
    "    subtrees = [] # ordered lists to detect the broken tree\n",
    "    weightslist = []\n",
    "    for p in parents:\n",
    "        if parents[p] == root:\n",
    "            subtrees.append(p)\n",
    "            weightslist.append(subtreeweights(p))\n",
    "\n",
    "    unique_weights = sorted(list(set(weightslist)))\n",
    "    \n",
    "    try:\n",
    "        small = weightslist.count(unique_weights[0])\n",
    "        big = weightslist.count(unique_weights[1])\n",
    "\n",
    "        if big == 1 and small > 1:\n",
    "            imbalanced = subtrees[weightslist.index(unique_weights[0])]\n",
    "        elif small == 1 and big > 1:\n",
    "            imbalanced = subtrees[weightslist.index(unique_weights[1])]\n",
    "        elif small == big:\n",
    "            imbalanced = None\n",
    "        \n",
    "    except IndexError:\n",
    "        imbalanced = None\n",
    "\n",
    "    return imbalanced"
   ]
  },
  {
   "cell_type": "code",
   "execution_count": 168,
   "metadata": {},
   "outputs": [
    {
     "name": "stdout",
     "output_type": "stream",
     "text": [
      "bkomu\n",
      "fbgguv\n",
      "537824\n",
      "jopcvyb\n",
      "2548\n",
      "pyoma\n",
      "2548\n",
      "jdxfsa\n",
      "2553\n",
      "liwlcz\n",
      "2548\n",
      "cxetjr\n",
      "2548\n",
      "vifbi\n",
      "2548\n",
      "tlmxygb\n",
      "2548\n",
      "1869\n",
      "Answer: 1864\n"
     ]
    }
   ],
   "source": [
    "# This isn't the tidiest, but basically we explore the\n",
    "# tree to find the right node and then its weight.\n",
    "root = 'fbgguv'\n",
    "maxits = 10\n",
    "for i in range(maxits):\n",
    "    root_new = find_imbalanced(root)\n",
    "    if root_new is None:\n",
    "        break\n",
    "    else:\n",
    "        par = root\n",
    "        root = root_new\n",
    "        \n",
    "print(root) # imbalanced node\n",
    "print(par) # its parent\n",
    "print(subtreeweights('fbgguv'))\n",
    "\n",
    "# Show sibling subweights\n",
    "for p in parents:\n",
    "    if parents[p] == 'zsasjr':\n",
    "        print(p)\n",
    "        print(subtreeweights(p))\n",
    "        \n",
    "print(weights['jdxfsa'])\n",
    "\n",
    "# Difference is 5, therefore:\n",
    "print('Answer: ' + str(weights['jdxfsa']-5))"
   ]
  },
  {
   "cell_type": "code",
   "execution_count": 169,
   "metadata": {},
   "outputs": [
    {
     "name": "stdout",
     "output_type": "stream",
     "text": [
      "problem 1: 5849\n",
      "problem 2: 6702\n"
     ]
    }
   ],
   "source": [
    "# Day 8, problem 1 and problem 2.\n",
    "# Perform instructions on registers subject to conditions on registers.\n",
    "# Print max register value at the end state, and over all computation.\n",
    "\n",
    "with io.open('input_day8.txt', 'rb') as f:\n",
    "    lines = [l.decode('utf-8').rstrip() for l in f.readlines()]\n",
    "    \n",
    "import operator\n",
    "\n",
    "op_dict = {'>=' : operator.__ge__,\n",
    "           '>' : operator.__gt__,\n",
    "           '==' : operator.__eq__,\n",
    "           '<' : operator.__lt__,\n",
    "           '<=' : operator.__le__,\n",
    "           '!=' : operator.__ne__,\n",
    "           'inc' : operator.__add__,\n",
    "           'dec' : operator.__sub__}\n",
    "\n",
    "registers = dict()\n",
    "maxes = []\n",
    "for l in lines:\n",
    "    split = l.split()\n",
    "    register = split[0]\n",
    "    instruc = split[1]\n",
    "    argument = int(split[2])\n",
    "    condn_reg = split[4]\n",
    "    condn_oper = split[5]\n",
    "    condn_arg = int(split[6])\n",
    "    \n",
    "    if register not in registers:\n",
    "        registers[register] = 0\n",
    "        \n",
    "    if condn_reg not in registers:\n",
    "        registers[condn_reg] = 0\n",
    "    \n",
    "    if op_dict[condn_oper](registers[condn_reg], condn_arg):\n",
    "        registers[register] = op_dict[instruc](registers[register], argument)\n",
    "        \n",
    "    maxes.append(max(registers.values()))\n",
    "        \n",
    "print('problem 1: ' + str(max(registers.values())))\n",
    "print('problem 2: ' + str(max(maxes)))"
   ]
  },
  {
   "cell_type": "code",
   "execution_count": 215,
   "metadata": {},
   "outputs": [],
   "source": [
    "# Day 9.\n",
    "# Need to parse \"garbage\" (angular bracketed, ignore characters following \"!\")\n",
    "# within \"groups\" (curly braced, per-group score one higher than parent group's score).\n",
    "# Problem 1: find total score.\n",
    "# Problem 2: find number of non-deleted (not prefixed by \"!\") garbage characters.\n",
    "\n",
    "with io.open('input_day9.txt', 'rb') as f:\n",
    "    text = f.read().rstrip().decode('utf8')\n",
    "    \n",
    "garbage_removed = ''\n",
    "in_garbage = False\n",
    "delete_next = False\n",
    "for c in text:\n",
    "    if c == '<' and not in_garbage:\n",
    "        in_garbage = True\n",
    "        garbage_removed += c\n",
    "\n",
    "    elif in_garbage and c == '>' and not delete_next:\n",
    "        garbage_removed += c\n",
    "        in_garbage = False\n",
    "\n",
    "    elif in_garbage and c == '!' and not delete_next:\n",
    "        delete_next = True\n",
    "        \n",
    "    elif in_garbage and delete_next:\n",
    "        delete_next = False\n",
    "        \n",
    "    else:\n",
    "        garbage_removed += c\n",
    "\n",
    "in_garbage = False\n",
    "no_garbage = ''\n",
    "garbage_count = 0\n",
    "for c in garbage_removed:\n",
    "    if c == '<' and not in_garbage:\n",
    "        in_garbage = True\n",
    "    elif c == '>' and in_garbage:\n",
    "        in_garbage = False\n",
    "    elif not in_garbage:\n",
    "        no_garbage += c\n",
    "    elif in_garbage:\n",
    "        garbage_count += 1"
   ]
  },
  {
   "cell_type": "code",
   "execution_count": 216,
   "metadata": {},
   "outputs": [],
   "source": [
    "# This is not the prettiest way of doing this.\n",
    "no_garbage = no_garbage.replace('{,', '{')\n",
    "no_garbage = no_garbage.replace('{', '[')\n",
    "no_garbage = no_garbage.replace('}', ']')\n",
    "\n",
    "arr = eval(no_garbage) # array to find score"
   ]
  },
  {
   "cell_type": "code",
   "execution_count": 217,
   "metadata": {},
   "outputs": [],
   "source": [
    "def score(arr, s=0):\n",
    "    to_ret = s+1\n",
    "    for i in arr:\n",
    "        to_ret += score(i, s+1)\n",
    "        \n",
    "    return to_ret"
   ]
  },
  {
   "cell_type": "code",
   "execution_count": 218,
   "metadata": {},
   "outputs": [
    {
     "name": "stdout",
     "output_type": "stream",
     "text": [
      "problem 1: 13154\n",
      "problem 2: 6369\n"
     ]
    }
   ],
   "source": [
    "print('problem 1: ' + str(score(arr)))\n",
    "print('problem 2: ' + str(garbage_count))"
   ]
  },
  {
   "cell_type": "code",
   "execution_count": 83,
   "metadata": {},
   "outputs": [
    {
     "name": "stdout",
     "output_type": "stream",
     "text": [
      "problem 1: 6952\n"
     ]
    }
   ],
   "source": [
    "# Day 10 - knot-based hash function.\n",
    "# Problem 1: hash function based on knots and half-twists.\n",
    "\n",
    "to_hash = Ring(range(0, 256))\n",
    "lengths = [31,2,85,1,80,109,35,63,98,255,0,13,105,254,128,33]\n",
    "\n",
    "# Test input.\n",
    "#to_hash = Ring(range(0, 5))\n",
    "#lengths = [3,4,1,5]\n",
    "\n",
    "def hash_list(to_hash, lengths, ind = 0, skip = 0):\n",
    "\n",
    "    for l in lengths:\n",
    "        to_hash[ind:ind+l] = list(reversed(to_hash[ind:ind+l]))\n",
    "        ind += l + skip\n",
    "        skip += 1\n",
    "\n",
    "    return to_hash, ind, skip\n",
    "\n",
    "to_hash, _, _ = hash_list(to_hash, lengths)\n",
    "print('problem 1: ' + str(to_hash[0]*to_hash[1]))"
   ]
  },
  {
   "cell_type": "code",
   "execution_count": 84,
   "metadata": {},
   "outputs": [],
   "source": [
    "def bitwise_xor(block):\n",
    "    res = block[0]\n",
    "    for b in block[1:]:\n",
    "        res = res ^ b\n",
    "        \n",
    "    return res\n",
    "\n",
    "def hash_ascii(to_hash, lengths):\n",
    "    to_hash = Ring([l for l in to_hash])\n",
    "    lengths = [ord(l) for l in lengths]\n",
    "    lengths += [17, 31, 73, 47, 23]\n",
    "    \n",
    "    ind, skip = 0, 0\n",
    "    for i in range(64):\n",
    "        to_hash, ind, skip = hash_list(to_hash, lengths, ind, skip)\n",
    "        \n",
    "    # Should really check len(to_hash) == 16*16\n",
    "    dense = []\n",
    "    for i in range(len(to_hash) // 16):\n",
    "        dense += [bitwise_xor(to_hash[i*16:(i+1)*16])]\n",
    "    return dense"
   ]
  },
  {
   "cell_type": "code",
   "execution_count": 85,
   "metadata": {},
   "outputs": [
    {
     "name": "stdout",
     "output_type": "stream",
     "text": [
      "problem 2: 28e7c4360520718a5dc811d3942cf1fd\n"
     ]
    }
   ],
   "source": [
    "# Problem 2: new hash function by repeated application with some text processing.\n",
    "lengths = \"\"\"31,2,85,1,80,109,35,63,98,255,0,13,105,254,128,33\"\"\"\n",
    "dense = hash_ascii(list(range(0,256)), lengths)\n",
    "outs = [\"{0:02x}\".format(i) for i in dense] # to hex\n",
    "print('problem 2: ' + ''.join(outs))"
   ]
  },
  {
   "cell_type": "code",
   "execution_count": 324,
   "metadata": {},
   "outputs": [
    {
     "name": "stdout",
     "output_type": "stream",
     "text": [
      "{'e': 326, 'n': 621.0}\n"
     ]
    }
   ],
   "source": [
    "# Day 11 - hexagonal grid.\n",
    "# Problem 1 - find how many steps the end state can be reached in.\n",
    "\n",
    "with io.open('input_day11.txt', 'rb') as f:\n",
    "    text = f.read().rstrip().decode('utf8')\n",
    "    \n",
    "from collections import Counter\n",
    "\n",
    "steps = Counter(text.split(','))\n",
    "\n",
    "steps_summed = {'ne': steps['ne'] - steps['sw'],\n",
    "                'n': steps['n'] - steps['s'],\n",
    "                'nw': steps['nw'] - steps['se']}\n",
    "\n",
    "# 'e' and 'n' vectors measured centre-to-centre.\n",
    "steps_overall = {'e': steps_summed['ne'] - steps_summed['nw'],\n",
    "                 'n': steps_summed['n'] + (steps_summed['ne'] + steps_summed['nw'])/2}\n",
    "\n",
    "print(steps_overall)"
   ]
  },
  {
   "cell_type": "code",
   "execution_count": 329,
   "metadata": {},
   "outputs": [
    {
     "name": "stdout",
     "output_type": "stream",
     "text": [
      "problem 1: ne 326, n 458.0 => steps 784.0\n"
     ]
    }
   ],
   "source": [
    "print('problem 1: ' + 'ne ' + str(steps_overall['e']) + ', n ' +\\\n",
    "      str(steps_overall['n'] - steps_overall['e']/2) +\\\n",
    "      ' => steps ' + str(steps_overall['e'] + steps_overall['n'] - steps_overall['e']/2))"
   ]
  },
  {
   "cell_type": "code",
   "execution_count": 361,
   "metadata": {},
   "outputs": [
    {
     "name": "stdout",
     "output_type": "stream",
     "text": [
      "problem 2: 1558.0\n"
     ]
    }
   ],
   "source": [
    "# Problem 2 - find the largest number of steps away the state ever reaches.\n",
    "\n",
    "state = {'e' : 0.0, 'n' : 0.0}\n",
    "steps_list = []\n",
    "dist_list = []\n",
    "its = 0\n",
    "for st in text.split(','):\n",
    "    if st == 'n':\n",
    "        state['n'] += 1\n",
    "    elif st == 's':\n",
    "        state['n'] -= 1\n",
    "    elif st == 'ne':\n",
    "        state['n'] += 0.5\n",
    "        state['e'] += 1\n",
    "    elif st == 'nw':\n",
    "        state['n'] += 0.5\n",
    "        state['e'] -= 1\n",
    "    elif st == 'se':\n",
    "        state['n'] -= 0.5\n",
    "        state['e'] += 1\n",
    "    elif st == 'sw':\n",
    "        state['n'] -= 0.5\n",
    "        state['e'] -= 1\n",
    "        \n",
    "    steps_list.append(abs(state['e']) + abs(state['n'] - state['e']/2))\n",
    "    \n",
    "print('problem 2: ' + str(max(steps_list)))"
   ]
  },
  {
   "cell_type": "code",
   "execution_count": 249,
   "metadata": {},
   "outputs": [
    {
     "name": "stdout",
     "output_type": "stream",
     "text": [
      "problem 1: 378\n"
     ]
    }
   ],
   "source": [
    "# Day 12: connected subgraphs of a graph.\n",
    "# Problem 1: how large is the connected component containing 0?\n",
    "\n",
    "with io.open('input_day12.txt', 'rb') as f:\n",
    "    lines = [x.rstrip().decode('utf8') for x in f.readlines()]\n",
    "\n",
    "from collections import defaultdict\n",
    "connections = defaultdict(lambda: [])\n",
    "for l in lines:\n",
    "    l = l.split('<->')\n",
    "    node = int(l[0].strip(' '))\n",
    "    connect = l[1].split(',')\n",
    "    connect = [c.strip(' ') for c in connect]\n",
    "    connections[node] = set(connections[node] + list(map(int, connect)))\n",
    "    \n",
    "n = 0\n",
    "\n",
    "def get_group(connections, n=0):\n",
    "    connected_list = set([])\n",
    "    connected_list_new = set([n])\n",
    "    inspected = set([])\n",
    "\n",
    "    while connected_list_new != connected_list and len(inspected) < len(connections.keys()):\n",
    "        connected_list = connected_list_new.copy()\n",
    "\n",
    "        for c in connected_list_new.copy():\n",
    "            if c not in inspected:\n",
    "                connected_list_new.update(list(connections[c]))\n",
    "                inspected.add(c)\n",
    "    \n",
    "    return connected_list_new\n",
    "\n",
    "print('problem 1: ' + str(len(get_group(connections))))"
   ]
  },
  {
   "cell_type": "code",
   "execution_count": 78,
   "metadata": {},
   "outputs": [
    {
     "name": "stdout",
     "output_type": "stream",
     "text": [
      "problem 2: 204\n"
     ]
    }
   ],
   "source": [
    "# Problem 2: how many different connected groups are there? \n",
    "found = set()\n",
    "groups_count = 0\n",
    "for n in connections:\n",
    "    if n not in found:\n",
    "        groups_count += 1\n",
    "        found.update(get_group(connections, n))\n",
    "\n",
    "print('problem 2: ' + str(groups_count))"
   ]
  },
  {
   "cell_type": "code",
   "execution_count": 75,
   "metadata": {},
   "outputs": [
    {
     "name": "stdout",
     "output_type": "stream",
     "text": [
      "problem 1: 1840\n"
     ]
    }
   ],
   "source": [
    "# Day 13: periodic \"firewall\" scanners.\n",
    "\n",
    "# Load input.\n",
    "depths = []\n",
    "ranges = []\n",
    "with io.open('input_day13.txt', 'rb') as f:\n",
    "    for l in f:\n",
    "        cleaned = l.rstrip().decode('utf8')\n",
    "        cleaned = cleaned.split(':')\n",
    "        depths.append(int(cleaned[0]))\n",
    "        ranges.append(int(cleaned[1].lstrip(' ')))\n",
    "\n",
    "# Problem 1: what is the total severity of firing a packet through?\n",
    "def severity(ranges, depths, t=0):\n",
    "    severity_count = 0\n",
    "    caught_count = 0\n",
    "    for i in range(len(depths)): # only consider depths where collisions can happen\n",
    "        d = depths[i]\n",
    "        r = ranges[i]\n",
    "\n",
    "        h = (d + t) % (2 * (r - 1)) # height of scanner\n",
    "        \n",
    "        if h >= r:\n",
    "            h = r - 1 - (h - r + 1)\n",
    "            \n",
    "        if h == 0:\n",
    "            caught_count += 1\n",
    "            severity_count += d * r\n",
    "            \n",
    "    return severity_count, caught_count\n",
    "\n",
    "print('problem 1: ' + str(severity(ranges, depths)[0]))"
   ]
  },
  {
   "cell_type": "code",
   "execution_count": 79,
   "metadata": {},
   "outputs": [
    {
     "name": "stdout",
     "output_type": "stream",
     "text": [
      "problem 2: 3850260\n"
     ]
    }
   ],
   "source": [
    "# Problem 2: what's the shortest wait before a packet can go without being caught?\n",
    "for t in range(10000000):\n",
    "    _, caught = severity(ranges, depths, t)\n",
    "    if(caught == 0):\n",
    "        print('problem 2: ' + str(t))\n",
    "        break"
   ]
  },
  {
   "cell_type": "code",
   "execution_count": 186,
   "metadata": {},
   "outputs": [],
   "source": [
    "# Day 14: disk defragmentation.\n",
    "\n",
    "# Problem 1: load disk block occupancy using knot-hash.\n",
    "#key = 'flqrgnkx'\n",
    "key = 'stpzcrnm'\n",
    "\n",
    "outs = []\n",
    "for i in range(128):\n",
    "    dense = hash_ascii(list(range(0,256)), key+'-'+str(i))\n",
    "    outs.append([bin(d)[2:].zfill(8) for d in dense])\n",
    "    \n",
    "outs = [''.join(l) for l in outs]"
   ]
  },
  {
   "cell_type": "code",
   "execution_count": 194,
   "metadata": {},
   "outputs": [
    {
     "name": "stdout",
     "output_type": "stream",
     "text": [
      "problem 1: 8250\n"
     ]
    }
   ],
   "source": [
    "summed = 0\n",
    "for l in outs:\n",
    "    for c in l:\n",
    "        summed += int(c)\n",
    "            \n",
    "print('problem 1: ' + str(summed))"
   ]
  },
  {
   "cell_type": "code",
   "execution_count": 196,
   "metadata": {},
   "outputs": [
    {
     "name": "stdout",
     "output_type": "stream",
     "text": [
      "problem 2: 1113\n"
     ]
    }
   ],
   "source": [
    "# Problem 2: find the number of contiguous regions.\n",
    "\n",
    "def get_adjacent_region(grid, li, ci):\n",
    "    n1, n2, n3, n4, n5 = 0, 0, 0, 0, 0\n",
    "    \n",
    "    if li > 0:\n",
    "        n1 = int(grid[li-1][ci])\n",
    "        \n",
    "    if li < len(grid) - 1:\n",
    "        n2 = int(grid[li+1][ci])\n",
    "        \n",
    "    if ci > 0:\n",
    "        n3 = int(grid[li][ci-1])\n",
    "        \n",
    "    if ci < len(grid[0]) - 1:\n",
    "        n4 = int(grid[li][ci+1])\n",
    "        \n",
    "    n5 = int(grid[li][ci])\n",
    "        \n",
    "    ns = [n1, n2, n3, n4, n5]\n",
    "    if max(ns) > 0:\n",
    "        ns = [n for n in ns if n != 0]\n",
    "        \n",
    "    return str(min(ns))\n",
    "        \n",
    "def regions(r_grid, newgrid=False):\n",
    "    # If newgrid, find the regions and number them, initially overestimating.\n",
    "    # If not newgrid, subsume regions into their lower-numbered neighbour regions.\n",
    "    if newgrid:\n",
    "        r_counter = 1\n",
    "        r_grid_copy = [[0 for w in l] for l in r_grid]\n",
    "    else:\n",
    "        r_grid_copy = list(map(list, r_grid))\n",
    "    for li, l in enumerate(r_grid):\n",
    "        for ci, c in enumerate(l):\n",
    "            if c != '0':\n",
    "                ri = get_adjacent_region(r_grid_copy, li, ci)\n",
    "\n",
    "                if ri == '0' and newgrid: # should only happen on the first run-through\n",
    "                    ri = r_counter\n",
    "                    r_counter += 1\n",
    "\n",
    "            elif c == '0':\n",
    "                ri = 0\n",
    "\n",
    "            r_grid_copy[li][ci] = str(ri)\n",
    "            \n",
    "    return r_grid_copy\n",
    "                \n",
    "r_grid = regions(outs, newgrid=True)\n",
    "rg = list(map(list, r_grid))\n",
    "for i in range(100):\n",
    "    tmp = regions(rg)\n",
    "    if rg == tmp:\n",
    "        break\n",
    "    rg = tmp\n",
    "\n",
    "rg_nums = [map(int, l) for l in rg]\n",
    "rg_nums = [c for l in rg_nums for c in l]\n",
    "print('problem 2: ' + str(len(set(rg_nums))-1))"
   ]
  },
  {
   "cell_type": "code",
   "execution_count": 43,
   "metadata": {},
   "outputs": [
    {
     "data": {
      "text/plain": [
       "4655539"
      ]
     },
     "execution_count": 43,
     "metadata": {},
     "output_type": "execute_result"
    }
   ],
   "source": [
    "# Day 15\n",
    "\n",
    "def gen(factor, init=0, mod=2147483647):        \n",
    "    val = (init*factor) % mod\n",
    "    return val\n",
    "    \n",
    "def genA():\n",
    "    return gen(16807, 277)\n",
    "    \n",
    "def genB():\n",
    "    return gen(48271, 349)\n",
    "    \n",
    "genA()\n"
   ]
  },
  {
   "cell_type": "code",
   "execution_count": 45,
   "metadata": {},
   "outputs": [],
   "source": [
    "a, b = 277, 349\n",
    "match_count = 0\n",
    "for i in range(40000000):\n",
    "    a = gen(16807, a)\n",
    "    b = gen(48271, b)\n",
    "        \n",
    "    if bin(a)[-16:] == bin(b)[-16:]:\n",
    "        match_count += 1"
   ]
  },
  {
   "cell_type": "code",
   "execution_count": 46,
   "metadata": {},
   "outputs": [
    {
     "name": "stdout",
     "output_type": "stream",
     "text": [
      "592\n"
     ]
    }
   ],
   "source": [
    "print(match_count)"
   ]
  },
  {
   "cell_type": "code",
   "execution_count": 51,
   "metadata": {},
   "outputs": [],
   "source": [
    "a, b = 277, 349\n",
    "propa, propb = a, b\n",
    "match_count2 = 0\n",
    "a_changed, b_changed = False, False\n",
    "its = 0\n",
    "for i in range(50000000000):\n",
    "    if its >= 5000000:\n",
    "        break\n",
    "        \n",
    "    propa = gen(16807, propa)\n",
    "    propb = gen(48271, propb)\n",
    "    \n",
    "    if propa % 4 == 0 and a_changed is False:\n",
    "        a = propa\n",
    "        a_changed = True\n",
    "        \n",
    "    if propb % 8 == 0 and b_changed is False:\n",
    "        b = propb\n",
    "        b_changed = True\n",
    "        \n",
    "    if a_changed and b_changed:\n",
    "        if bin(a)[-16:] == bin(b)[-16:]:\n",
    "            match_count2 += 1\n",
    "        \n",
    "        propa = a\n",
    "        propb = b\n",
    "        a_changed, b_changed = False, False\n",
    "        its += 1"
   ]
  },
  {
   "cell_type": "code",
   "execution_count": 52,
   "metadata": {},
   "outputs": [
    {
     "name": "stdout",
     "output_type": "stream",
     "text": [
      "320\n"
     ]
    }
   ],
   "source": [
    "print(match_count2)"
   ]
  },
  {
   "cell_type": "code",
   "execution_count": 101,
   "metadata": {},
   "outputs": [
    {
     "name": "stdout",
     "output_type": "stream",
     "text": [
      "kpfonjglcibaedhm\n"
     ]
    }
   ],
   "source": [
    "# Day 16 - \"dancing\" strings\n",
    "# Problem 1 - make them dance.\n",
    "with io.open('input_day16.txt', 'rb') as f:\n",
    "    instrs = f.read().rstrip().decode('utf8').split(',')\n",
    "    \n",
    "progs = list('abcdefghijklmnop')\n",
    "\n",
    "def dance(progs, instrs):\n",
    "    for i in instrs:\n",
    "        if i[0] == 's':\n",
    "            arg = int(i[1:])\n",
    "            p1 = progs[-arg:]\n",
    "            p2 = progs[:-arg]\n",
    "            progs = p1+p2\n",
    "        elif i[0] == 'x':\n",
    "            to_parse = i[1:]\n",
    "            arg1 = int(to_parse.split('/')[0])\n",
    "            arg2 = int(to_parse.split('/')[1])\n",
    "            a = progs[arg1]\n",
    "            b = progs[arg2]\n",
    "            progs[arg1] = b\n",
    "            progs[arg2] = a\n",
    "        elif i[0] == 'p':\n",
    "            to_parse = i[1:]\n",
    "            arg1 = to_parse.split('/')[0]\n",
    "            arg2 = to_parse.split('/')[1]\n",
    "            a = progs.index(arg1)\n",
    "            b = progs.index(arg2)\n",
    "            progs[b] = arg1\n",
    "            progs[a] = arg2\n",
    "            \n",
    "    return ''.join(progs)\n",
    "\n",
    "print('problem 1: ' + dance(list(progs), instrs))"
   ]
  },
  {
   "cell_type": "code",
   "execution_count": 103,
   "metadata": {},
   "outputs": [
    {
     "name": "stdout",
     "output_type": "stream",
     "text": [
      "43\n",
      "42\n",
      "problem 2: odiabmplhfgjcekn\n"
     ]
    }
   ],
   "source": [
    "progs = 'abcdefghijklmnop'\n",
    "progs_list = [progs]\n",
    "for i in range(42):\n",
    "    progs = dance(list(progs), instrs)\n",
    "    progs_list.append(progs)\n",
    "    \n",
    "# Modulo 42...\n",
    "print(len(progs_list))\n",
    "print(len(set(progs_list)))\n",
    "print('problem 2: ' + progs_list[int(1e9%42)])"
   ]
  },
  {
   "cell_type": "code",
   "execution_count": 336,
   "metadata": {},
   "outputs": [],
   "source": [
    "# Day 17.\n",
    "inp = 349\n",
    "buffer = Ring([None])\n",
    "buffer[0] = 0\n",
    "addr = 0\n",
    "\n",
    "for i in range(1,2018):\n",
    "    addr += inp\n",
    "    a = buffer.index(buffer[addr])\n",
    "    buffer = Ring(buffer[:a+1].copy() + [i] + buffer[a+1:].copy())\n",
    "    addr = a+1"
   ]
  },
  {
   "cell_type": "code",
   "execution_count": 338,
   "metadata": {},
   "outputs": [
    {
     "name": "stdout",
     "output_type": "stream",
     "text": [
      "problem 1: 640\n"
     ]
    }
   ],
   "source": [
    "print('problem 1: ' + str(buffer[buffer.index(2017)+1]))"
   ]
  },
  {
   "cell_type": "code",
   "execution_count": 339,
   "metadata": {},
   "outputs": [],
   "source": [
    "buffer = Ring([None])\n",
    "buffer[0] = 0\n",
    "addr = 0\n",
    "\n",
    "for i in range(1,50000001):\n",
    "    addr += inp\n",
    "    if addr % i == 0:\n",
    "        a = addr % i\n",
    "        buffer = Ring(buffer[:a+1].copy() + [i] + buffer[a+1:].copy())\n",
    "\n",
    "        \n",
    "    addr = ((addr % i) + 1) % (i+1)"
   ]
  },
  {
   "cell_type": "code",
   "execution_count": 340,
   "metadata": {},
   "outputs": [
    {
     "name": "stdout",
     "output_type": "stream",
     "text": [
      "problem 2: 47949463\n"
     ]
    }
   ],
   "source": [
    "print('problem 2: ' + str(buffer[buffer.index(0)+1]))"
   ]
  },
  {
   "cell_type": "code",
   "execution_count": 274,
   "metadata": {},
   "outputs": [],
   "source": [
    "# Day 18.\n",
    "with io.open('input_day17.txt', 'rb') as f:\n",
    "    instrs = [x.decode('utf8').rstrip() for x in f.readlines()]"
   ]
  },
  {
   "cell_type": "code",
   "execution_count": 275,
   "metadata": {},
   "outputs": [],
   "source": [
    "curr = 0\n",
    "registers = defaultdict(lambda: 0)\n",
    "last_freq = 0"
   ]
  },
  {
   "cell_type": "code",
   "execution_count": 341,
   "metadata": {},
   "outputs": [
    {
     "name": "stdout",
     "output_type": "stream",
     "text": [
      "problem 1: 8600\n"
     ]
    },
    {
     "ename": "Exception",
     "evalue": "Reached first instance of rcv.",
     "output_type": "error",
     "traceback": [
      "\u001b[0;31m---------------------------------------------------------------------------\u001b[0m",
      "\u001b[0;31mException\u001b[0m                                 Traceback (most recent call last)",
      "\u001b[0;32m<ipython-input-341-1a165777340d>\u001b[0m in \u001b[0;36m<module>\u001b[0;34m()\u001b[0m\n\u001b[1;32m     34\u001b[0m \u001b[0;34m\u001b[0m\u001b[0m\n\u001b[1;32m     35\u001b[0m \u001b[0;32mfor\u001b[0m \u001b[0mi\u001b[0m \u001b[0;32min\u001b[0m \u001b[0mrange\u001b[0m\u001b[0;34m(\u001b[0m\u001b[0;36m10000\u001b[0m\u001b[0;34m)\u001b[0m\u001b[0;34m:\u001b[0m\u001b[0;34m\u001b[0m\u001b[0m\n\u001b[0;32m---> 36\u001b[0;31m     \u001b[0mcurr\u001b[0m\u001b[0;34m,\u001b[0m \u001b[0mregisters\u001b[0m\u001b[0;34m,\u001b[0m \u001b[0mlast_freq\u001b[0m \u001b[0;34m=\u001b[0m \u001b[0mparse\u001b[0m\u001b[0;34m(\u001b[0m\u001b[0mcurr\u001b[0m\u001b[0;34m,\u001b[0m \u001b[0mregisters\u001b[0m\u001b[0;34m,\u001b[0m \u001b[0mlast_freq\u001b[0m\u001b[0;34m)\u001b[0m\u001b[0;34m\u001b[0m\u001b[0m\n\u001b[0m",
      "\u001b[0;32m<ipython-input-341-1a165777340d>\u001b[0m in \u001b[0;36mparse\u001b[0;34m(curr, registers, last_freq, instrs)\u001b[0m\n\u001b[1;32m     25\u001b[0m         \u001b[0;32mif\u001b[0m \u001b[0mregisters\u001b[0m\u001b[0;34m[\u001b[0m\u001b[0marg1\u001b[0m\u001b[0;34m]\u001b[0m \u001b[0;34m!=\u001b[0m \u001b[0;36m0\u001b[0m\u001b[0;34m:\u001b[0m\u001b[0;34m\u001b[0m\u001b[0m\n\u001b[1;32m     26\u001b[0m             \u001b[0mprint\u001b[0m\u001b[0;34m(\u001b[0m\u001b[0;34m'problem 1: '\u001b[0m \u001b[0;34m+\u001b[0m \u001b[0mstr\u001b[0m\u001b[0;34m(\u001b[0m\u001b[0mlast_freq\u001b[0m\u001b[0;34m)\u001b[0m\u001b[0;34m)\u001b[0m\u001b[0;34m\u001b[0m\u001b[0m\n\u001b[0;32m---> 27\u001b[0;31m             \u001b[0;32mraise\u001b[0m \u001b[0mException\u001b[0m\u001b[0;34m(\u001b[0m\u001b[0;34m'Reached first instance of rcv.'\u001b[0m\u001b[0;34m)\u001b[0m\u001b[0;34m\u001b[0m\u001b[0m\n\u001b[0m\u001b[1;32m     28\u001b[0m     \u001b[0;32melif\u001b[0m \u001b[0mcmd\u001b[0m \u001b[0;34m==\u001b[0m \u001b[0;34m'snd'\u001b[0m\u001b[0;34m:\u001b[0m\u001b[0;34m\u001b[0m\u001b[0m\n\u001b[1;32m     29\u001b[0m         \u001b[0mlast_freq\u001b[0m \u001b[0;34m=\u001b[0m \u001b[0mregisters\u001b[0m\u001b[0;34m[\u001b[0m\u001b[0marg1\u001b[0m\u001b[0;34m]\u001b[0m\u001b[0;34m\u001b[0m\u001b[0m\n",
      "\u001b[0;31mException\u001b[0m: Reached first instance of rcv."
     ]
    }
   ],
   "source": [
    "def parse(curr, registers, last_freq, instrs=instrs):\n",
    "    cmd = instrs[curr][:3]\n",
    "    arg1 = instrs[curr][4]\n",
    "    \n",
    "    if len(instrs[curr]) > 4:\n",
    "        arg2 = instrs[curr][6:]\n",
    "        \n",
    "    try:\n",
    "        arg2 = int(arg2)\n",
    "    except:\n",
    "        arg2 = registers[arg2]\n",
    "            \n",
    "    if cmd == 'set':\n",
    "        registers[arg1] = arg2\n",
    "    elif cmd == 'mul':\n",
    "        registers[arg1] = registers[arg1] * arg2\n",
    "    elif cmd == 'jgz':\n",
    "        if registers[arg1] > 0:\n",
    "            curr += arg2 - 1\n",
    "    elif cmd == 'add':\n",
    "        registers[arg1] += arg2\n",
    "    elif cmd == 'mod':\n",
    "        registers[arg1] = registers[arg1] % arg2\n",
    "    elif cmd == 'rcv':\n",
    "        if registers[arg1] != 0:\n",
    "            print('problem 1: ' + str(last_freq))\n",
    "            raise Exception('Reached first instance of rcv.')\n",
    "    elif cmd == 'snd':\n",
    "        last_freq = registers[arg1]\n",
    "    \n",
    "    curr += 1\n",
    "    \n",
    "    return curr, registers, last_freq\n",
    "    \n",
    "for i in range(10000):\n",
    "    curr, registers, last_freq = parse(curr, registers, last_freq)"
   ]
  },
  {
   "cell_type": "code",
   "execution_count": 342,
   "metadata": {},
   "outputs": [],
   "source": [
    "def parse2(curr, registers, rcv_queue, instrs=instrs):\n",
    "    #print(curr)\n",
    "    #print(instrs[curr])\n",
    "    cmd = instrs[curr][:3]\n",
    "    arg1 = instrs[curr][4]\n",
    "    \n",
    "    if len(instrs[curr]) > 4:\n",
    "        arg2 = instrs[curr][6:]\n",
    "        \n",
    "    try:\n",
    "        arg2 = int(arg2)\n",
    "    except:\n",
    "        arg2 = registers[arg2]\n",
    "        \n",
    "    sent = None\n",
    "            \n",
    "    if cmd == 'set':\n",
    "        registers[arg1] = arg2\n",
    "    elif cmd == 'mul':\n",
    "        registers[arg1] = registers[arg1] * arg2\n",
    "    elif cmd == 'jgz':\n",
    "        try:\n",
    "            arg1 = int(arg1)\n",
    "            if arg1 > 0:\n",
    "                curr += arg2 - 1\n",
    "        except:\n",
    "            if registers[arg1] > 0:\n",
    "                curr += arg2 - 1\n",
    "    elif cmd == 'add':\n",
    "        registers[arg1] += arg2\n",
    "    elif cmd == 'mod':\n",
    "        registers[arg1] = registers[arg1] % arg2\n",
    "    elif cmd == 'rcv':\n",
    "        if len(rcv_queue) > 0:\n",
    "            registers[arg1] = rcv_queue.popleft()\n",
    "        else:\n",
    "            curr -= 1\n",
    "    elif cmd == 'snd':\n",
    "        sent = registers[arg1]\n",
    "    \n",
    "    curr += 1\n",
    "    \n",
    "    return curr, registers, sent\n"
   ]
  },
  {
   "cell_type": "code",
   "execution_count": null,
   "metadata": {},
   "outputs": [],
   "source": [
    "from collections import deque\n",
    "\n",
    "curr0 = 0\n",
    "registers0 = defaultdict(lambda: 0)\n",
    "rcv_queue0 = deque([])\n",
    "curr1 = 0\n",
    "registers1 = defaultdict(lambda: 0)\n",
    "rcv_queue1 = deque([])\n",
    "\n",
    "registers0['p'] = 0\n",
    "registers1['p'] = 1\n",
    "\n",
    "sent_count = 0\n",
    "\n",
    "instrs_examp = ['snd 1', 'snd 2','snd p','rcv a','rcv b','rcv c','rcv d']\n",
    "\n",
    "for i in range(100000000):\n",
    "    if curr0 >= 0:\n",
    "        curr0, registers0, sent0 = parse2(curr0, registers0, rcv_queue0)\n",
    "        if sent0 is not None:\n",
    "            rcv_queue1.append(sent0)\n",
    "        \n",
    "    if curr1 >= 0:\n",
    "        curr1, registers1, sent1 = parse2(curr1, registers1, rcv_queue1)\n",
    "        if sent1 is not None:\n",
    "            rcv_queue0.append(sent1)\n",
    "            sent_count += 1\n",
    "\n",
    "print('problem 2: ' + str(sent_count))"
   ]
  },
  {
   "cell_type": "code",
   "execution_count": 307,
   "metadata": {},
   "outputs": [],
   "source": [
    "# Day 19.\n",
    "with io.open('input_day19.txt', 'rb') as f:\n",
    "    routes = f.read().decode('utf8').split('\\n')"
   ]
  },
  {
   "cell_type": "code",
   "execution_count": 323,
   "metadata": {},
   "outputs": [],
   "source": [
    "pos = [0, routes[0].index('|')]\n",
    "direc = 'd'\n",
    "\n",
    "def is_feas(prop_pos, routes=routes):\n",
    "    try:\n",
    "        c = routes[prop_pos[0]][prop_pos[1]]\n",
    "    except:\n",
    "        return False\n",
    "    \n",
    "    if c == '|' or c == '-' or c == '+' or c.isalpha():\n",
    "        return True\n",
    "    else:\n",
    "        return False\n",
    "    \n",
    "def find_new_direc(pos, direc, routes=routes):\n",
    "    ds = []\n",
    "    if pos[0] > 0 and (direc == 'l' or direc == 'r'):\n",
    "        d1 = [pos[0]-1, pos[1]]\n",
    "        if is_feas(d1): return 'u'\n",
    "    \n",
    "    if pos[0] < len(routes)-1 and (direc == 'l' or direc == 'r'):\n",
    "        d2 = [pos[0]+1, pos[1]]\n",
    "        if is_feas(d2): return 'd'\n",
    "        \n",
    "    if pos[1] > 0 and (direc == 'u' or direc == 'd'):\n",
    "        d3 = [pos[0], pos[1]-1]\n",
    "        if is_feas(d3): return 'l'\n",
    "        \n",
    "    if pos[1] < len(routes[0])-1 and (direc == 'u' or direc == 'd'):\n",
    "        d4 = [pos[0], pos[1]+1]\n",
    "        if is_feas(d4): return 'r'\n",
    "        \n",
    "    return None\n",
    "\n",
    "letters = []\n",
    "step_count = 1\n",
    "for i in range(100000):\n",
    "    prop_pos = pos.copy()\n",
    "    if direc == 'd':\n",
    "        prop_pos[0] += 1\n",
    "    elif direc == 'u':\n",
    "        prop_pos[0] -= 1\n",
    "    elif direc == 'l':\n",
    "        prop_pos[1] -= 1\n",
    "    elif direc == 'r':\n",
    "        prop_pos[1] += 1\n",
    "        \n",
    "    if is_feas(prop_pos):\n",
    "        step_count += 1\n",
    "        pos = prop_pos\n",
    "        if routes[pos[0]][pos[1]].isalpha():\n",
    "            letters += routes[pos[0]][pos[1]]\n",
    "    else:\n",
    "        direc = find_new_direc(pos, direc)\n",
    "        if direc is None:\n",
    "            break"
   ]
  },
  {
   "cell_type": "code",
   "execution_count": 322,
   "metadata": {},
   "outputs": [
    {
     "name": "stdout",
     "output_type": "stream",
     "text": [
      "PVBSCMEQHY\n"
     ]
    }
   ],
   "source": [
    "print('problem 1: ' + ''.join(letters))"
   ]
  },
  {
   "cell_type": "code",
   "execution_count": 324,
   "metadata": {},
   "outputs": [
    {
     "name": "stdout",
     "output_type": "stream",
     "text": [
      "17735\n"
     ]
    }
   ],
   "source": [
    "print('problem 2: ' + str(step_count))"
   ]
  },
  {
   "cell_type": "code",
   "execution_count": null,
   "metadata": {},
   "outputs": [],
   "source": []
  }
 ],
 "metadata": {
  "kernelspec": {
   "display_name": "PyPy3",
   "language": "python",
   "name": "pypy3"
  },
  "language_info": {
   "codemirror_mode": {
    "name": "ipython",
    "version": 3
   },
   "file_extension": ".py",
   "mimetype": "text/x-python",
   "name": "python",
   "nbconvert_exporter": "python",
   "pygments_lexer": "ipython3",
   "version": "3.5.3"
  }
 },
 "nbformat": 4,
 "nbformat_minor": 2
}
