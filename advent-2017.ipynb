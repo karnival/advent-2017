{
 "cells": [
  {
   "cell_type": "code",
   "execution_count": 4,
   "metadata": {},
   "outputs": [],
   "source": [
    "# Day 1\n",
    "# Problem 1: sum of all digits that match the next digit in the (circular) list.\n",
    "captcha = \"5228833336355848549915459366737982598312959583817455621545976784792489468198365998232722734876612332352376192813552949814275947575774339529811976644361517795586998319242241614813622734255797569571577699238592667287428166398221572885869416419682687759743978434571821267146514338394624525648338739929479912368172669885577319718389278168766844487948761697438722556857882433224393723131298876252626643517236883999115665656935521675772866516185899317132494716723615493476397115627687887665194781746377341468995954554518252916859227397693885254329628812355612487594445522395853551734567498838382248616137969637971369615443599973588326388792893969924855316437952313492551671545714262784738343517166544197194547173515155927244175447296474282154114951181648317875827525814453758846194548872789943372281952995222779173812444186491115426476188672253249744478946863317915136832199132868917891243591195719354721129116229164688256853628339233919671468781913167415624214152793864585332944468428849171876873433621524242289488135675313544498245498637424139153782925723745249728743885493877792648576673196889949568317234125863369187953788611841388353999875519172896329524346527265231767868839696693328273381772726782949166112932954356923757485139367298699922984925977724972944277991686823219295939734313874834861796179591659174726432357533113896212781566659154939419866797488347448551719481632572231632463575591599696388223344219228325134233238538854289437756331848887242423387542214691157226725179683638967415678697625138177633444765126223885478348951332634398291612134852858683942466178329922655822225426534359191696177633167962839847985826676955417426617126288255366123169174674348417932158291334646767637764323226842771523598562429399935789788215958367362467652444854123951972118358417629679454978687337137675495295768451719631999398617828287671937584998697959425845883145736323818225129311845997214987663433375689621746665629187252511643969315283316269222835744532431378945137649959158495714472963839397214332815241141327714672141875129895\"\n",
    "\n",
    "# Convert to list of ints\n",
    "l = []\n",
    "for c in captcha:\n",
    "    l.append(int(c))"
   ]
  },
  {
   "cell_type": "code",
   "execution_count": 17,
   "metadata": {},
   "outputs": [],
   "source": [
    "# This class is a list with indexing that wraps around.\n",
    "class Ring(list):\n",
    "    def __init__(self, l):\n",
    "        super().__init__(l)\n",
    "        self.N = len(l)\n",
    "    def __getitem__(self, key):\n",
    "        key_true = key % self.N\n",
    "        return super().__getitem__(key_true)\n",
    "    def __setitem__(self, key, value):\n",
    "        key_true = key % self.N\n",
    "        return super().__setitem__(key_true, value)\n",
    "    \n",
    "r = Ring(l)"
   ]
  },
  {
   "cell_type": "code",
   "execution_count": 58,
   "metadata": {},
   "outputs": [
    {
     "data": {
      "text/plain": [
       "1216"
      ]
     },
     "execution_count": 58,
     "metadata": {},
     "output_type": "execute_result"
    }
   ],
   "source": [
    "# Day 1, problem 1 solution.\n",
    "summing = 0\n",
    "for i in range(len(r)):\n",
    "    if r[i] == r[i+1]:\n",
    "        summing += r[i]\n",
    "summing"
   ]
  },
  {
   "cell_type": "code",
   "execution_count": 64,
   "metadata": {},
   "outputs": [
    {
     "data": {
      "text/plain": [
       "1072"
      ]
     },
     "execution_count": 64,
     "metadata": {},
     "output_type": "execute_result"
    }
   ],
   "source": [
    "# Day 1, problem 2.\n",
    "# Sum of all digits that match the digit halfway around the list.\n",
    "# e.g. a[0] only added to sum if a[0]==a[N/2] (careful with fencepost).\n",
    "\n",
    "N = len(r)\n",
    "summing = 0\n",
    "for i in range(N):\n",
    "    if r[i] == r[i+N//2]: # assumes N is even\n",
    "        summing += r[i]\n",
    "summing\n"
   ]
  },
  {
   "cell_type": "code",
   "execution_count": 1,
   "metadata": {},
   "outputs": [
    {
     "data": {
      "text/plain": [
       "43074"
      ]
     },
     "execution_count": 1,
     "metadata": {},
     "output_type": "execute_result"
    }
   ],
   "source": [
    "# Day 2, problem 1.\n",
    "# Checksum: for each row, take difference of largest and smallest element. Sum these.\n",
    "\n",
    "entries = [[157,564,120,495,194,520,510,618,244,443,471,473,612,149,506,138],\n",
    "[1469,670,47,604,1500,238,1304,1426,54,749,1218,1409,60,51,1436,598],\n",
    "[578,184,2760,3057,994,167,2149,191,2913,2404,213,1025,1815,588,2421,3138],\n",
    "[935,850,726,155,178,170,275,791,1028,75,781,138,176,621,773,688],\n",
    "[212,977,297,645,229,194,207,640,804,509,833,726,197,825,242,743],\n",
    "[131,43,324,319,64,376,231,146,382,162,464,314,178,353,123,446],\n",
    "[551,121,127,155,1197,288,1412,1285,557,137,145,1651,1549,1217,681,1649],\n",
    "[1723,1789,5525,4890,3368,188,3369,4842,3259,2502,4825,163,146,2941,126,5594],\n",
    "[311,2420,185,211,2659,2568,2461,231,2599,1369,821,506,2227,180,220,1372],\n",
    "[197,4490,141,249,3615,3314,789,4407,169,352,4383,5070,5173,3115,132,3513],\n",
    "[4228,2875,3717,504,114,2679,165,3568,3002,116,756,151,4027,261,4813,2760],\n",
    "[651,3194,2975,2591,1019,835,3007,248,3028,1382,282,3242,296,270,3224,3304],\n",
    "[1858,1650,1720,1848,95,313,500,1776,207,1186,72,259,281,1620,79,77],\n",
    "[3841,3217,440,3481,3643,940,3794,4536,1994,4040,3527,202,193,1961,230,217],\n",
    "[2837,2747,2856,426,72,78,2361,96,2784,2780,98,2041,2444,1267,2167,2480],\n",
    "[411,178,4263,4690,3653,162,3201,4702,3129,2685,3716,147,3790,4888,79,165]]\n",
    "\n",
    "summing = 0\n",
    "for e in entries:\n",
    "    summing += max(e) - min(e)\n",
    "\n",
    "summing"
   ]
  },
  {
   "cell_type": "code",
   "execution_count": 22,
   "metadata": {},
   "outputs": [
    {
     "data": {
      "text/plain": [
       "280"
      ]
     },
     "execution_count": 22,
     "metadata": {},
     "output_type": "execute_result"
    }
   ],
   "source": [
    "# Day 2, problem 2.\n",
    "# Each row has only two entries where one divides the other.\n",
    "# Sum the results of these divisions.\n",
    "\n",
    "summing = 0\n",
    "for row in entries:\n",
    "    for i,n in enumerate(row):\n",
    "        modulos = [x % n for x in row]\n",
    "        \n",
    "        if modulos.count(0) == 2: # found the entries, one is n\n",
    "            try:\n",
    "                other_ind = modulos[:i].index(0) # the other is before n\n",
    "            except ValueError:\n",
    "                other_ind = modulos[i+1:].index(0) + i+1 # the other is after n\n",
    "\n",
    "            n1 = row[other_ind] \n",
    "            divided = max(n, n1) // min(n, n1)\n",
    "            \n",
    "            summing += divided\n",
    "            break\n",
    "\n",
    "summing"
   ]
  },
  {
   "cell_type": "code",
   "execution_count": 37,
   "metadata": {},
   "outputs": [
    {
     "data": {
      "text/plain": [
       "280"
      ]
     },
     "execution_count": 37,
     "metadata": {},
     "output_type": "execute_result"
    }
   ],
   "source": [
    "# Neater solution for day 2, problem 2.\n",
    "# Sorting in reversed order means the numerator always occurs first.\n",
    "\n",
    "summing = 0\n",
    "for row in entries:\n",
    "    row_sorted = list(reversed(sorted(row)))\n",
    "    \n",
    "    for n in row_sorted:\n",
    "        modulos = [x % n for x in row_sorted]\n",
    "        \n",
    "        if modulos.count(0) == 2:\n",
    "            other_ind = modulos.index(0)\n",
    "            n1 = row_sorted[other_ind]\n",
    "            \n",
    "            divided = n1 // n\n",
    "\n",
    "            summing += divided\n",
    "            break\n",
    "\n",
    "summing"
   ]
  },
  {
   "cell_type": "code",
   "execution_count": 55,
   "metadata": {},
   "outputs": [
    {
     "name": "stdout",
     "output_type": "stream",
     "text": [
      "475\n"
     ]
    }
   ],
   "source": [
    "# Day 3, problem 1.\n",
    "# Spiral memory, find the Manhattan norm from input to origin.\n",
    "\n",
    "# In this solution we exploit the fact that every squared integer \n",
    "# is a corner of the \"square\" formed by the numbers up to that point.\n",
    "\n",
    "# Hence we can easily find the coordinates of the nearest squared\n",
    "# integer to the target number, then compute the offset from there.\n",
    "\n",
    "import math\n",
    "\n",
    "t = 277678\n",
    "a = math.floor(math.sqrt(t)) # closest square number (corner)\n",
    "\n",
    "diff = t - a**2\n",
    "\n",
    "# Lower RHS coordinates. By symmetry of the Manhattan norm,\n",
    "# we're flipping LHS corners to act as if they were RHS corners.\n",
    "x0 = ((a - 1) // 2)\n",
    "y0 = -(a // 2)\n",
    "\n",
    "if diff <= a + 1: # we're on the vertical edge of the square\n",
    "    x = x0 + 1\n",
    "    y = y0 + diff - 1\n",
    "elif diff > a + 1: # we're on the horizontal edge of the square\n",
    "    x = x0 + 1 - (diff - (a+1))\n",
    "    y = y0 + a\n",
    "    \n",
    "print(abs(x) + abs(y))"
   ]
  },
  {
   "cell_type": "code",
   "execution_count": 98,
   "metadata": {},
   "outputs": [
    {
     "name": "stdout",
     "output_type": "stream",
     "text": [
      "279138\n"
     ]
    }
   ],
   "source": [
    "# Day 3, problem 2.\n",
    "# Set all cells in the grid to 0, and the origin to 1.\n",
    "# Each cell now becomes the sum of adjacent cells, spiralling out from the origin.\n",
    "# What is the first cell value larger than the input?\n",
    "\n",
    "l = 11 # width of grid to simulate\n",
    "\n",
    "grid = [[0 for i in range(l)] for i in range(l)]\n",
    "\n",
    "grid[5][5] = 1\n",
    "cursor_x = 5\n",
    "cursor_y = 5\n",
    "\n",
    "def sum_neighbours(x, y):\n",
    "    summed = 0\n",
    "    summed += grid[x-1][y-1]\n",
    "    summed += grid[x-1][y]\n",
    "    summed += grid[x-1][y+1]\n",
    "    summed += grid[x][y-1]\n",
    "    summed += grid[x][y+1]\n",
    "    summed += grid[x+1][y-1]\n",
    "    summed += grid[x+1][y]\n",
    "    summed += grid[x+1][y+1]\n",
    "    \n",
    "    return summed\n",
    "    \n",
    "\n",
    "# Trace out a spiral and sum neighbours as you go.\n",
    "# This is not very DRY...\n",
    "for i in range(1, l-2, 2):\n",
    "    if grid[cursor_x][cursor_y] <= t:\n",
    "        for j in range(i):\n",
    "            cursor_x += 1\n",
    "            grid[cursor_x][cursor_y] = sum_neighbours(cursor_x, cursor_y)\n",
    "\n",
    "            if grid[cursor_x][cursor_y] > t:\n",
    "                print(grid[cursor_x][cursor_y])\n",
    "                break\n",
    "    \n",
    "    if grid[cursor_x][cursor_y] <= t:\n",
    "        for j in range(i):\n",
    "            cursor_y += 1\n",
    "            grid[cursor_x][cursor_y] = sum_neighbours(cursor_x, cursor_y)\n",
    "\n",
    "            if grid[cursor_x][cursor_y] > t:\n",
    "                print(grid[cursor_x][cursor_y])\n",
    "                break\n",
    "\n",
    "    if grid[cursor_x][cursor_y] <= t:            \n",
    "        for j in range(i+1):\n",
    "            cursor_x -= 1\n",
    "            grid[cursor_x][cursor_y] = sum_neighbours(cursor_x, cursor_y)\n",
    "\n",
    "            if grid[cursor_x][cursor_y] > t:\n",
    "                print(grid[cursor_x][cursor_y])\n",
    "                break\n",
    "\n",
    "    if grid[cursor_x][cursor_y] <= t:\n",
    "        for j in range(i+1):\n",
    "            cursor_y -= 1\n",
    "            grid[cursor_x][cursor_y] = sum_neighbours(cursor_x, cursor_y)\n",
    "            \n",
    "            if grid[cursor_x][cursor_y] > t:\n",
    "                print(grid[cursor_x][cursor_y])\n",
    "                break\n",
    "\n"
   ]
  },
  {
   "cell_type": "code",
   "execution_count": 54,
   "metadata": {},
   "outputs": [
    {
     "name": "stdout",
     "output_type": "stream",
     "text": [
      "383\n"
     ]
    }
   ],
   "source": [
    "# Day 4, problem 1.\n",
    "# Check how many passphrases from input file are valid.\n",
    "# Validity requires no repeated words.\n",
    "\n",
    "import io\n",
    "\n",
    "with io.open('input_day4.txt', 'rb') as f:\n",
    "    props = f.readlines()\n",
    "\n",
    "valid_tally = 0\n",
    "for p in props:\n",
    "    split = p.split()\n",
    "    if len(split) == len(set(split)):\n",
    "        valid_tally += 1\n",
    "    \n",
    "print(valid_tally)"
   ]
  },
  {
   "cell_type": "code",
   "execution_count": 3,
   "metadata": {},
   "outputs": [
    {
     "name": "stdout",
     "output_type": "stream",
     "text": [
      "265\n"
     ]
    }
   ],
   "source": [
    "# Day 4, problem 2.\n",
    "# Now validity requires no words being anagrams of any other word.\n",
    "\n",
    "valid_tally = 0\n",
    "for p in props:\n",
    "    split = p.decode('utf8').split()\n",
    "    \n",
    "    # Sorting will make anagrams identical.\n",
    "    split_sorted = [''.join(sorted(s)) for s in split]\n",
    " \n",
    "    if len(split_sorted) == len(set(split_sorted)):\n",
    "        valid_tally +=1\n",
    "    \n",
    "print(valid_tally)"
   ]
  },
  {
   "cell_type": "code",
   "execution_count": 4,
   "metadata": {},
   "outputs": [
    {
     "name": "stdout",
     "output_type": "stream",
     "text": [
      "339351\n"
     ]
    }
   ],
   "source": [
    "# Day 5, problem 1.\n",
    "# Start at the first element of the input. Increment that element,\n",
    "# then jump forward/backward by however many steps it said before\n",
    "# incrementing. How many steps before you exit the list?\n",
    "\n",
    "with io.open('input_day5.txt', 'rb') as f:\n",
    "    instrs = [int(x) for x in f.readlines()]\n",
    "\n",
    "# Test with a simpler example.\n",
    "# instrs = [0, 3, 0, 1, -3]\n",
    "\n",
    "max_its = 1000000\n",
    "c = 0 # cursor\n",
    "steps_tally = 0\n",
    "for i in range(max_its):\n",
    "    if 0 <= c < len(instrs):\n",
    "        instrs[c] += 1\n",
    "        to_step = instrs[c] - 1\n",
    "        c += to_step\n",
    "        steps_tally += 1\n",
    "    else:\n",
    "        # We've escaped!\n",
    "        print(steps_tally)\n",
    "        break\n",
    "        "
   ]
  },
  {
   "cell_type": "code",
   "execution_count": 7,
   "metadata": {},
   "outputs": [
    {
     "name": "stdout",
     "output_type": "stream",
     "text": [
      "24315397\n"
     ]
    }
   ],
   "source": [
    "# Day 5, problem 2.\n",
    "# Now, the updating rule is different.\n",
    "# if entry >=3 then decrement, otherwise increment.\n",
    "\n",
    "with io.open('input_day5.txt', 'rb') as f:\n",
    "    instrs = [int(x) for x in f.readlines()]\n",
    "    \n",
    "# Test with a simpler example.\n",
    "# instrs = [0, 3, 0, 1, -3]\n",
    "\n",
    "max_its = 1000000000\n",
    "c = 0 # cursor\n",
    "steps_tally = 0\n",
    "for i in range(max_its):\n",
    "    if 0 <= c < len(instrs):\n",
    "        to_step = instrs[c]\n",
    "        \n",
    "        if instrs[c] >= 3:\n",
    "            instrs[c] -= 1\n",
    "        else:\n",
    "            instrs[c] += 1\n",
    "           \n",
    "        c += to_step\n",
    "        steps_tally += 1\n",
    "    else:\n",
    "        # We've escaped!\n",
    "        print(steps_tally)\n",
    "        break"
   ]
  },
  {
   "cell_type": "code",
   "execution_count": 50,
   "metadata": {},
   "outputs": [
    {
     "name": "stdout",
     "output_type": "stream",
     "text": [
      "6681\n"
     ]
    }
   ],
   "source": [
    "# Day 6, problem 1.\n",
    "# Memory shuffling: find the largest bucket, then redistribute its entries,\n",
    "# one by one starting with the next bucket. Ties are broken by lower index.\n",
    "# Find how many iterations occur before the first repeated memory allocation.\n",
    "\n",
    "mem = Ring([4, 1, 15, 12, 0, 9, 9, 5, 5, 8, 7, 3, 14, 5, 12, 3])\n",
    "\n",
    "# Known test case.\n",
    "#mem = Ring([0, 2, 7, 0])\n",
    "\n",
    "max_its = 1000000\n",
    "mems_list = []\n",
    "for i in range(max_its):\n",
    "    c = mem.index(max(mem)) # finds first occurrence\n",
    "    largest = mem[c]\n",
    "    mem[c] = 0\n",
    "    \n",
    "    for j in range(largest):\n",
    "        mem[c+j+1] += 1\n",
    "    \n",
    "    mems_list.append(tuple(mem.copy()))\n",
    "    \n",
    "    uniques = len(set(mems_list))\n",
    "    \n",
    "    if uniques < i:\n",
    "        print(i)\n",
    "        break"
   ]
  },
  {
   "cell_type": "code",
   "execution_count": 52,
   "metadata": {},
   "outputs": [
    {
     "name": "stdout",
     "output_type": "stream",
     "text": [
      "2392\n"
     ]
    }
   ],
   "source": [
    "# Day 6, problem 2.\n",
    "# Start with an already-seen state. How many iterations before it reoccurs?\n",
    "# Use the same starting configuration as before.\n",
    "\n",
    "recurring_inds = [i for i,x in enumerate(mems_list) if x==mems_list[-1]]\n",
    "\n",
    "print(recurring_inds[1] - recurring_inds[0])"
   ]
  },
  {
   "cell_type": "code",
   "execution_count": 82,
   "metadata": {},
   "outputs": [
    {
     "name": "stdout",
     "output_type": "stream",
     "text": [
      "fbgguv\n"
     ]
    }
   ],
   "source": [
    "# Day 7, problem 1.\n",
    "# There is a tree structure implied by program input.\n",
    "# Find the root node.\n",
    "\n",
    "with io.open('input_day7.txt', 'rb') as f:\n",
    "    lines = [l.decode('utf-8').rstrip() for l in f.readlines()]\n",
    "\n",
    "parents = dict()\n",
    "for l in lines:\n",
    "    ws = l.split()\n",
    "    if len(ws) > 3:\n",
    "        for w in ws[3:]:\n",
    "            parents[w.rstrip(',')] = ws[0]\n",
    "\n",
    "parent = 'mvjqmad'\n",
    "while True:\n",
    "    try:\n",
    "        parent = parents[parent]\n",
    "    except KeyError:\n",
    "        print(parent) \n",
    "        break"
   ]
  },
  {
   "cell_type": "code",
   "execution_count": 129,
   "metadata": {},
   "outputs": [],
   "source": [
    "# Day 7, problem 2.\n",
    "# Find the single node with the wrong weight for balancing all subtrees.\n",
    "# What does its weight have to become?\n",
    "\n",
    "weights = dict()\n",
    "for l in lines:\n",
    "    ws = l.split()\n",
    "    weights[ws[0]] = int(ws[1].lstrip('(').rstrip(')'))\n",
    "        "
   ]
  },
  {
   "cell_type": "code",
   "execution_count": 130,
   "metadata": {},
   "outputs": [],
   "source": [
    "def subtreeweights(par):\n",
    "    summed_weight = 0\n",
    "    for p in parents:\n",
    "        if parents[p] == par:\n",
    "            summed_weight += subtreeweights(p)\n",
    "    \n",
    "    summed_weight += weights[par]\n",
    "    \n",
    "    return summed_weight"
   ]
  },
  {
   "cell_type": "code",
   "execution_count": 117,
   "metadata": {},
   "outputs": [],
   "source": [
    "def find_imbalanced(root):\n",
    "    subtrees = [] # ordered lists to detect the broken tree\n",
    "    weightslist = []\n",
    "    for p in parents:\n",
    "        if parents[p] == root:\n",
    "            subtrees.append(p)\n",
    "            weightslist.append(subtreeweights(p))\n",
    "\n",
    "    unique_weights = sorted(list(set(weightslist)))\n",
    "    \n",
    "    try:\n",
    "        small = weightslist.count(unique_weights[0])\n",
    "        big = weightslist.count(unique_weights[1])\n",
    "\n",
    "        if big == 1 and small > 1:\n",
    "            imbalanced = subtrees[weightslist.index(unique_weights[0])]\n",
    "        elif small == 1 and big > 1:\n",
    "            imbalanced = subtrees[weightslist.index(unique_weights[1])]\n",
    "        elif small == big:\n",
    "            imbalanced = None\n",
    "        \n",
    "    except IndexError:\n",
    "        imbalanced = None\n",
    "\n",
    "    return imbalanced"
   ]
  },
  {
   "cell_type": "code",
   "execution_count": 168,
   "metadata": {},
   "outputs": [
    {
     "name": "stdout",
     "output_type": "stream",
     "text": [
      "bkomu\n",
      "fbgguv\n",
      "537824\n",
      "jopcvyb\n",
      "2548\n",
      "pyoma\n",
      "2548\n",
      "jdxfsa\n",
      "2553\n",
      "liwlcz\n",
      "2548\n",
      "cxetjr\n",
      "2548\n",
      "vifbi\n",
      "2548\n",
      "tlmxygb\n",
      "2548\n",
      "1869\n",
      "Answer: 1864\n"
     ]
    }
   ],
   "source": [
    "# This isn't the tidiest, but basically we explore the\n",
    "# tree to find the right node and then its weight.\n",
    "root = 'fbgguv'\n",
    "maxits = 10\n",
    "for i in range(maxits):\n",
    "    root_new = find_imbalanced(root)\n",
    "    if root_new is None:\n",
    "        break\n",
    "    else:\n",
    "        par = root\n",
    "        root = root_new\n",
    "        \n",
    "print(root) # imbalanced node\n",
    "print(par) # its parent\n",
    "print(subtreeweights('fbgguv'))\n",
    "\n",
    "# Show sibling subweights\n",
    "for p in parents:\n",
    "    if parents[p] == 'zsasjr':\n",
    "        print(p)\n",
    "        print(subtreeweights(p))\n",
    "        \n",
    "print(weights['jdxfsa'])\n",
    "\n",
    "# Difference is 5, therefore:\n",
    "print('Answer: ' + str(weights['jdxfsa']-5))"
   ]
  },
  {
   "cell_type": "code",
   "execution_count": 165,
   "metadata": {},
   "outputs": [
    {
     "name": "stdout",
     "output_type": "stream",
     "text": [
      "problem 1: 5849\n",
      "problem 2: 6702\n"
     ]
    }
   ],
   "source": [
    "# Day 8, problem 1 and problem 2.\n",
    "# Perform instructions on registers subject to conditions on registers.\n",
    "# Print max register value at the end state, and over all computation.\n",
    "\n",
    "with io.open('input_day8.txt', 'rb') as f:\n",
    "    lines = [l.decode('utf-8').rstrip() for l in f.readlines()]\n",
    "    \n",
    "import operator\n",
    "\n",
    "op_dict = {'>=' : operator.__ge__,\n",
    "           '>' : operator.__gt__,\n",
    "           '==' : operator.__eq__,\n",
    "           '<' : operator.__lt__,\n",
    "           '<=' : operator.__le__,\n",
    "           '!=' : operator.__ne__,\n",
    "           'inc' : operator.__add__,\n",
    "           'dec' : operator.__sub__}\n",
    "\n",
    "registers = dict()\n",
    "maxes = []\n",
    "for l in lines:\n",
    "    split = l.split()\n",
    "    register = split[0]\n",
    "    instruc = split[1]\n",
    "    argument = int(split[2])\n",
    "    condn_reg = split[4]\n",
    "    condn_oper = split[5]\n",
    "    condn_arg = int(split[6])\n",
    "    \n",
    "    if register not in registers:\n",
    "        registers[register] = 0\n",
    "        \n",
    "    if condn_reg not in registers:\n",
    "        registers[condn_reg] = 0\n",
    "    \n",
    "    if op_dict[condn_oper](registers[condn_reg], condn_arg):\n",
    "        registers[register] = op_dict[instruc](registers[register], argument)\n",
    "        \n",
    "    maxes.append(max(registers.values()))\n",
    "        \n",
    "print('problem 1: ' + str(max(registers.values())))\n",
    "print('problem 2: ' + str(max(maxes)))"
   ]
  }
 ],
 "metadata": {
  "kernelspec": {
   "display_name": "PyPy3",
   "language": "python",
   "name": "pypy3"
  },
  "language_info": {
   "codemirror_mode": {
    "name": "ipython",
    "version": 3
   },
   "file_extension": ".py",
   "mimetype": "text/x-python",
   "name": "python",
   "nbconvert_exporter": "python",
   "pygments_lexer": "ipython3",
   "version": "3.5.3"
  }
 },
 "nbformat": 4,
 "nbformat_minor": 2
}
