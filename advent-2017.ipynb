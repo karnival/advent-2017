{
 "cells": [
  {
   "cell_type": "code",
   "execution_count": 3,
   "metadata": {},
   "outputs": [
    {
     "name": "stdout",
     "output_type": "stream",
     "text": [
      "1216\n"
     ]
    }
   ],
   "source": [
    "# Day 1\n",
    "# Problem 1: sum of all digits that match the next digit in the (circular) list.\n",
    "captcha = \"5228833336355848549915459366737982598312959583817455621545976784792489468198365998232722734876612332352376192813552949814275947575774339529811976644361517795586998319242241614813622734255797569571577699238592667287428166398221572885869416419682687759743978434571821267146514338394624525648338739929479912368172669885577319718389278168766844487948761697438722556857882433224393723131298876252626643517236883999115665656935521675772866516185899317132494716723615493476397115627687887665194781746377341468995954554518252916859227397693885254329628812355612487594445522395853551734567498838382248616137969637971369615443599973588326388792893969924855316437952313492551671545714262784738343517166544197194547173515155927244175447296474282154114951181648317875827525814453758846194548872789943372281952995222779173812444186491115426476188672253249744478946863317915136832199132868917891243591195719354721129116229164688256853628339233919671468781913167415624214152793864585332944468428849171876873433621524242289488135675313544498245498637424139153782925723745249728743885493877792648576673196889949568317234125863369187953788611841388353999875519172896329524346527265231767868839696693328273381772726782949166112932954356923757485139367298699922984925977724972944277991686823219295939734313874834861796179591659174726432357533113896212781566659154939419866797488347448551719481632572231632463575591599696388223344219228325134233238538854289437756331848887242423387542214691157226725179683638967415678697625138177633444765126223885478348951332634398291612134852858683942466178329922655822225426534359191696177633167962839847985826676955417426617126288255366123169174674348417932158291334646767637764323226842771523598562429399935789788215958367362467652444854123951972118358417629679454978687337137675495295768451719631999398617828287671937584998697959425845883145736323818225129311845997214987663433375689621746665629187252511643969315283316269222835744532431378945137649959158495714472963839397214332815241141327714672141875129895\"\n",
    "\n",
    "# Convert to list of ints\n",
    "l = []\n",
    "for c in captcha:\n",
    "    l.append(int(c))"
   ]
  },
  {
   "cell_type": "code",
   "execution_count": 52,
   "metadata": {},
   "outputs": [],
   "source": [
    "# This class is a list with indexing that wraps around.\n",
    "class Ring(list):\n",
    "    def __init__(self, l):\n",
    "        super().__init__(l)\n",
    "        self.N = len(l)\n",
    "    def __getitem__(self, key):\n",
    "        key_true = key % self.N\n",
    "        return super().__getitem__(key_true)\n",
    "    \n",
    "r = Ring(l)"
   ]
  },
  {
   "cell_type": "code",
   "execution_count": 58,
   "metadata": {},
   "outputs": [
    {
     "data": {
      "text/plain": [
       "1216"
      ]
     },
     "execution_count": 58,
     "metadata": {},
     "output_type": "execute_result"
    }
   ],
   "source": [
    "# Day 1, problem 1 solution.\n",
    "summing = 0\n",
    "for i in range(len(r)):\n",
    "    if r[i] == r[i+1]:\n",
    "        summing += r[i]\n",
    "summing"
   ]
  },
  {
   "cell_type": "code",
   "execution_count": 64,
   "metadata": {},
   "outputs": [
    {
     "data": {
      "text/plain": [
       "1072"
      ]
     },
     "execution_count": 64,
     "metadata": {},
     "output_type": "execute_result"
    }
   ],
   "source": [
    "# Day 1, problem 2.\n",
    "# Sum of all digits that match the digit halfway around the list.\n",
    "# e.g. a[0] only added to sum if a[0]==a[N/2] (careful with fencepost).\n",
    "\n",
    "N = len(r)\n",
    "summing = 0\n",
    "for i in range(N):\n",
    "    if r[i] == r[i+N//2]: # assumes N is even\n",
    "        summing += r[i]\n",
    "summing\n"
   ]
  },
  {
   "cell_type": "code",
   "execution_count": 1,
   "metadata": {},
   "outputs": [
    {
     "data": {
      "text/plain": [
       "43074"
      ]
     },
     "execution_count": 1,
     "metadata": {},
     "output_type": "execute_result"
    }
   ],
   "source": [
    "# Day 2, problem 1.\n",
    "# Checksum: for each row, take difference of largest and smallest element. Sum these.\n",
    "\n",
    "entries = [[157,564,120,495,194,520,510,618,244,443,471,473,612,149,506,138],\n",
    "[1469,670,47,604,1500,238,1304,1426,54,749,1218,1409,60,51,1436,598],\n",
    "[578,184,2760,3057,994,167,2149,191,2913,2404,213,1025,1815,588,2421,3138],\n",
    "[935,850,726,155,178,170,275,791,1028,75,781,138,176,621,773,688],\n",
    "[212,977,297,645,229,194,207,640,804,509,833,726,197,825,242,743],\n",
    "[131,43,324,319,64,376,231,146,382,162,464,314,178,353,123,446],\n",
    "[551,121,127,155,1197,288,1412,1285,557,137,145,1651,1549,1217,681,1649],\n",
    "[1723,1789,5525,4890,3368,188,3369,4842,3259,2502,4825,163,146,2941,126,5594],\n",
    "[311,2420,185,211,2659,2568,2461,231,2599,1369,821,506,2227,180,220,1372],\n",
    "[197,4490,141,249,3615,3314,789,4407,169,352,4383,5070,5173,3115,132,3513],\n",
    "[4228,2875,3717,504,114,2679,165,3568,3002,116,756,151,4027,261,4813,2760],\n",
    "[651,3194,2975,2591,1019,835,3007,248,3028,1382,282,3242,296,270,3224,3304],\n",
    "[1858,1650,1720,1848,95,313,500,1776,207,1186,72,259,281,1620,79,77],\n",
    "[3841,3217,440,3481,3643,940,3794,4536,1994,4040,3527,202,193,1961,230,217],\n",
    "[2837,2747,2856,426,72,78,2361,96,2784,2780,98,2041,2444,1267,2167,2480],\n",
    "[411,178,4263,4690,3653,162,3201,4702,3129,2685,3716,147,3790,4888,79,165]]\n",
    "\n",
    "summing = 0\n",
    "for e in entries:\n",
    "    summing += max(e) - min(e)\n",
    "\n",
    "summing"
   ]
  },
  {
   "cell_type": "code",
   "execution_count": 22,
   "metadata": {},
   "outputs": [
    {
     "data": {
      "text/plain": [
       "280"
      ]
     },
     "execution_count": 22,
     "metadata": {},
     "output_type": "execute_result"
    }
   ],
   "source": [
    "# Day 2, problem 2.\n",
    "# Each row has only two entries where one divides the other.\n",
    "# Sum the results of these divisions.\n",
    "\n",
    "summing = 0\n",
    "for row in entries:\n",
    "    for i,n in enumerate(row):\n",
    "        modulos = [x % n for x in row]\n",
    "        \n",
    "        if modulos.count(0) == 2: # found the entries, one is n\n",
    "            try:\n",
    "                other_ind = modulos[:i].index(0) # the other is before n\n",
    "            except ValueError:\n",
    "                other_ind = modulos[i+1:].index(0) + i+1 # the other is after n\n",
    "\n",
    "            n1 = row[other_ind] \n",
    "            divided = max(n, n1) // min(n, n1)\n",
    "            \n",
    "            summing += divided\n",
    "            break\n",
    "\n",
    "summing"
   ]
  },
  {
   "cell_type": "code",
   "execution_count": 37,
   "metadata": {},
   "outputs": [
    {
     "data": {
      "text/plain": [
       "280"
      ]
     },
     "execution_count": 37,
     "metadata": {},
     "output_type": "execute_result"
    }
   ],
   "source": [
    "# Neater solution for day 2, problem 2.\n",
    "# Sorting in reversed order means the numerator always occurs first.\n",
    "\n",
    "summing = 0\n",
    "for row in entries:\n",
    "    row_sorted = list(reversed(sorted(row)))\n",
    "    \n",
    "    for n in row_sorted:\n",
    "        modulos = [x % n for x in row_sorted]\n",
    "        \n",
    "        if modulos.count(0) == 2:\n",
    "            other_ind = modulos.index(0)\n",
    "            n1 = row_sorted[other_ind]\n",
    "            \n",
    "            divided = n1 // n\n",
    "\n",
    "            summing += divided\n",
    "            break\n",
    "\n",
    "summing"
   ]
  },
  {
   "cell_type": "code",
   "execution_count": 55,
   "metadata": {},
   "outputs": [
    {
     "name": "stdout",
     "output_type": "stream",
     "text": [
      "475\n"
     ]
    }
   ],
   "source": [
    "# Day 3, problem 1.\n",
    "# Spiral memory, find the Manhattan norm from input to origin.\n",
    "\n",
    "# In this solution we exploit the fact that every squared integer \n",
    "# is a corner of the \"square\" formed by the numbers up to that point.\n",
    "\n",
    "# Hence we can easily find the coordinates of the nearest squared\n",
    "# integer to the target number, then compute the offset from there.\n",
    "\n",
    "import math\n",
    "\n",
    "t = 277678\n",
    "a = math.floor(math.sqrt(t)) # closest square number (corner)\n",
    "\n",
    "diff = t - a**2\n",
    "\n",
    "# Lower RHS coordinates. By symmetry of the Manhattan norm,\n",
    "# we're flipping LHS corners to act as if they were RHS corners.\n",
    "x0 = ((a - 1) // 2)\n",
    "y0 = -(a // 2)\n",
    "\n",
    "if diff <= a + 1: # we're on the vertical edge of the square\n",
    "    x = x0 + 1\n",
    "    y = y0 + diff - 1\n",
    "elif diff > a + 1: # we're on the horizontal edge of the square\n",
    "    x = x0 + 1 - (diff - (a+1))\n",
    "    y = y0 + a\n",
    "    \n",
    "print(abs(x) + abs(y))"
   ]
  },
  {
   "cell_type": "code",
   "execution_count": 98,
   "metadata": {},
   "outputs": [
    {
     "name": "stdout",
     "output_type": "stream",
     "text": [
      "279138\n"
     ]
    }
   ],
   "source": [
    "# Day 3, problem 2.\n",
    "# Set all cells in the grid to 0, and the origin to 1.\n",
    "# Each cell now becomes the sum of adjacent cells, spiralling out from the origin.\n",
    "# What is the first cell value larger than the input?\n",
    "\n",
    "l = 11 # width of grid to simulate\n",
    "\n",
    "grid = [[0 for i in range(l)] for i in range(l)]\n",
    "\n",
    "grid[5][5] = 1\n",
    "cursor_x = 5\n",
    "cursor_y = 5\n",
    "\n",
    "def sum_neighbours(x, y):\n",
    "    summed = 0\n",
    "    summed += grid[x-1][y-1]\n",
    "    summed += grid[x-1][y]\n",
    "    summed += grid[x-1][y+1]\n",
    "    summed += grid[x][y-1]\n",
    "    summed += grid[x][y+1]\n",
    "    summed += grid[x+1][y-1]\n",
    "    summed += grid[x+1][y]\n",
    "    summed += grid[x+1][y+1]\n",
    "    \n",
    "    return summed\n",
    "    \n",
    "\n",
    "# Trace out a spiral and sum neighbours as you go.\n",
    "# This is not very DRY...\n",
    "for i in range(1, l-2, 2):\n",
    "    if grid[cursor_x][cursor_y] <= t:\n",
    "        for j in range(i):\n",
    "            cursor_x += 1\n",
    "            grid[cursor_x][cursor_y] = sum_neighbours(cursor_x, cursor_y)\n",
    "\n",
    "            if grid[cursor_x][cursor_y] > t:\n",
    "                print(grid[cursor_x][cursor_y])\n",
    "                break\n",
    "    \n",
    "    if grid[cursor_x][cursor_y] <= t:\n",
    "        for j in range(i):\n",
    "            cursor_y += 1\n",
    "            grid[cursor_x][cursor_y] = sum_neighbours(cursor_x, cursor_y)\n",
    "\n",
    "            if grid[cursor_x][cursor_y] > t:\n",
    "                print(grid[cursor_x][cursor_y])\n",
    "                break\n",
    "\n",
    "    if grid[cursor_x][cursor_y] <= t:            \n",
    "        for j in range(i+1):\n",
    "            cursor_x -= 1\n",
    "            grid[cursor_x][cursor_y] = sum_neighbours(cursor_x, cursor_y)\n",
    "\n",
    "            if grid[cursor_x][cursor_y] > t:\n",
    "                print(grid[cursor_x][cursor_y])\n",
    "                break\n",
    "\n",
    "    if grid[cursor_x][cursor_y] <= t:\n",
    "        for j in range(i+1):\n",
    "            cursor_y -= 1\n",
    "            grid[cursor_x][cursor_y] = sum_neighbours(cursor_x, cursor_y)\n",
    "            \n",
    "            if grid[cursor_x][cursor_y] > t:\n",
    "                print(grid[cursor_x][cursor_y])\n",
    "                break\n",
    "\n"
   ]
  },
  {
   "cell_type": "code",
   "execution_count": null,
   "metadata": {},
   "outputs": [],
   "source": []
  }
 ],
 "metadata": {
  "kernelspec": {
   "display_name": "Python 3",
   "language": "python",
   "name": "python3"
  },
  "language_info": {
   "codemirror_mode": {
    "name": "ipython",
    "version": 3
   },
   "file_extension": ".py",
   "mimetype": "text/x-python",
   "name": "python",
   "nbconvert_exporter": "python",
   "pygments_lexer": "ipython3",
   "version": "3.5.2"
  }
 },
 "nbformat": 4,
 "nbformat_minor": 2
}
